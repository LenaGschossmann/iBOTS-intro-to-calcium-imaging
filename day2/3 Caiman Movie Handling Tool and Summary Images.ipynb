{
 "cells": [
  {
   "cell_type": "code",
   "execution_count": null,
   "metadata": {},
   "outputs": [],
   "source": [
    "# %pip install numpy matplotlib"
   ]
  },
  {
   "cell_type": "code",
   "execution_count": null,
   "metadata": {},
   "outputs": [],
   "source": [
    "import numpy as np\n",
    "import matplotlib.pyplot as plt\n",
    "from tifffile import imread\n",
    "import cv2\n",
    "import caiman as cm \n",
    "import sciebo\n",
    "from fake_data_gen import fake_data_1, fake_data_2"
   ]
  },
  {
   "cell_type": "markdown",
   "metadata": {},
   "source": [
    "## CaImAn Movie Handling Tool\n",
    "\n",
    "**Learning Outcome**\n",
    "1. Load movies from CaImAn\n",
    "2. Play movie\n",
    "3. Resize and downsample movie"
   ]
  },
  {
   "cell_type": "code",
   "execution_count": null,
   "metadata": {},
   "outputs": [],
   "source": [
    "sciebo.download_file_from_sciebo('https://uni-bonn.sciebo.de/s/aLuGqYoZRFgwhzF', 'data', 'data_endoscope.tif')\n",
    "sciebo.download_file_from_sciebo('https://uni-bonn.sciebo.de/s/RR7qj7tklW1rX25', 'data', 'Sue_2x_3000_40_-46.tif')"
   ]
  },
  {
   "cell_type": "markdown",
   "metadata": {},
   "source": [
    "**Example** Load `data/data_endoscope.tif` using CaImAn and check its shape. How many frames does it have?"
   ]
  },
  {
   "cell_type": "code",
   "execution_count": null,
   "metadata": {},
   "outputs": [],
   "source": [
    "movie_1p = cm.load(\"data/data_endoscope.tif\")\n",
    "movie_1p.shape"
   ]
  },
  {
   "cell_type": "markdown",
   "metadata": {},
   "source": [
    "Load data/Sue_2x_3000_40_-46.tif using CaImAn and check its shape"
   ]
  },
  {
   "cell_type": "code",
   "execution_count": null,
   "metadata": {},
   "outputs": [],
   "source": []
  },
  {
   "cell_type": "markdown",
   "metadata": {},
   "source": [
    "**Example** Load and play `data/data_endoscope.tif` using CaImAn. Press `q` when you want to stop the movie to play"
   ]
  },
  {
   "cell_type": "code",
   "execution_count": null,
   "metadata": {},
   "outputs": [],
   "source": [
    "movie_1p = cm.load(\"data/data_endoscope.tif\")\n",
    "cm.play_movie(movie_1p)"
   ]
  },
  {
   "cell_type": "markdown",
   "metadata": {},
   "source": [
    "Load and play `data/Sue_2x_3000_40_-46.tif` using CaImAn. Press `q` when you want to stop the movie to play"
   ]
  },
  {
   "cell_type": "code",
   "execution_count": null,
   "metadata": {},
   "outputs": [],
   "source": []
  },
  {
   "cell_type": "markdown",
   "metadata": {},
   "source": [
    "It might be helpful to have frame numbers on screen.\n",
    "\n",
    "Load and play `data/data_endoscope.tif` using CaImAn and display frame number. Press `q` when you want to stop the movie to play\n",
    "\n",
    "Hint: use ``plot_text = True``"
   ]
  },
  {
   "cell_type": "code",
   "execution_count": null,
   "metadata": {},
   "outputs": [],
   "source": []
  },
  {
   "cell_type": "markdown",
   "metadata": {},
   "source": [
    "Load and play `data/Sue_2x_3000_40_-46.tif` using CaImAn and display frame number with frame rate of 10. Press `q` when you want to stop the movie to play"
   ]
  },
  {
   "cell_type": "code",
   "execution_count": null,
   "metadata": {},
   "outputs": [],
   "source": []
  },
  {
   "cell_type": "markdown",
   "metadata": {},
   "source": [
    "Sometimes, images can be quite noisy. We can downsample in time to remove some of the noise while playing.\n",
    "\n",
    "**Example** Load and play `data/data_endoscope.tif` using CaImAn and display frame number. Downsample in time by a factor of 5\n",
    "\n",
    "Press `q` when you want to stop the movie to play"
   ]
  },
  {
   "cell_type": "code",
   "execution_count": null,
   "metadata": {},
   "outputs": [],
   "source": [
    "downsample = 1. / 5\n",
    "movie_1p = cm.load(\"data/data_endoscope.tif\")\n",
    "movie_1p_resize = movie_1p.copy()\n",
    "movie_1p_resize.resize(fz = downsample).play(plot_text = True)"
   ]
  },
  {
   "cell_type": "markdown",
   "metadata": {},
   "source": [
    "The difference in noise level is more significant in 2 photon sample before and after downsampling time.\n",
    "\n",
    "Load and play `data/Sue_2x_3000_40_-46.tif` using CaImAn and display frame number. Downsample in time by a factor of 5\n",
    "\n",
    "Press `q` when you want to stop the movie to play"
   ]
  },
  {
   "cell_type": "code",
   "execution_count": null,
   "metadata": {},
   "outputs": [],
   "source": []
  },
  {
   "cell_type": "markdown",
   "metadata": {},
   "source": [
    "Load and play `data/Sue_2x_3000_40_-46.tif` using CaImAn and display frame number. Downsample in time by a factor of 100\n",
    "\n",
    "Press `q` when you want to stop the movie to play"
   ]
  },
  {
   "cell_type": "code",
   "execution_count": null,
   "metadata": {},
   "outputs": [],
   "source": []
  },
  {
   "cell_type": "markdown",
   "metadata": {},
   "source": [
    "That's a bit slow. Load and play `data/Sue_2x_3000_40_-46.tif` using CaImAn and display frame number. Downsample in time by a factor of 100 and with a frame rate of 10\n",
    "\n",
    "Press `q` when you want to stop the movie to play"
   ]
  },
  {
   "cell_type": "code",
   "execution_count": null,
   "metadata": {},
   "outputs": [],
   "source": []
  },
  {
   "cell_type": "markdown",
   "metadata": {},
   "source": [
    "## Summary images\n",
    "\n",
    "Summary images like correlation images, mean projections, and maximum intensity projections are used to guide preprocessing steps such as motion correction, where they can serve as reference images against which to align subsequent frames or to evaluate the effectiveness of the correction. They can highlight areas with unusually high or low activity, guiding further investigation into anomalies or specific phenomena of interest within the dataset."
   ]
  },
  {
   "cell_type": "code",
   "execution_count": null,
   "metadata": {},
   "outputs": [],
   "source": [
    "# creating fake data for practice\n",
    "fake_data_1 = fake_data_1()\n",
    "fake_data_2 = fake_data_2()"
   ]
  },
  {
   "cell_type": "markdown",
   "metadata": {},
   "source": [
    "**Example** Before we make summary images, let's first see how the raw data looks like. We will use some techniques we learnt yesterday.\n",
    "\n",
    "Display first, second, and third frame of fake_data_1"
   ]
  },
  {
   "cell_type": "code",
   "execution_count": null,
   "metadata": {},
   "outputs": [],
   "source": [
    "plt.subplot(131)\n",
    "plt.imshow(fake_data_1[0])\n",
    "plt.subplot(132)\n",
    "plt.imshow(fake_data_1[1])\n",
    "plt.subplot(133)\n",
    "plt.imshow(fake_data_1[2])"
   ]
  },
  {
   "cell_type": "markdown",
   "metadata": {},
   "source": [
    "Display first, sixth, and ninth frames of fake_data_2"
   ]
  },
  {
   "cell_type": "code",
   "execution_count": null,
   "metadata": {},
   "outputs": [],
   "source": []
  },
  {
   "cell_type": "markdown",
   "metadata": {},
   "source": [
    "Load `data/data_endoscope.tif` using caiman and display first three frames"
   ]
  },
  {
   "cell_type": "code",
   "execution_count": null,
   "metadata": {},
   "outputs": [],
   "source": []
  },
  {
   "cell_type": "markdown",
   "metadata": {},
   "source": [
    "Load `data/Sue_2x_3000_40_-46.tif` using caiman and display first three frames"
   ]
  },
  {
   "cell_type": "code",
   "execution_count": null,
   "metadata": {},
   "outputs": [],
   "source": []
  },
  {
   "cell_type": "markdown",
   "metadata": {},
   "source": [
    "**Example** Make a maximum projection image of `fake_data_1`"
   ]
  },
  {
   "cell_type": "code",
   "execution_count": null,
   "metadata": {},
   "outputs": [],
   "source": [
    "max_proj = np.max(fake_data_1, axis=0)\n",
    "plt.imshow(max_proj, cmap='gray');"
   ]
  },
  {
   "cell_type": "markdown",
   "metadata": {},
   "source": [
    "Make a maximum projection image of `fake_data_2`"
   ]
  },
  {
   "cell_type": "code",
   "execution_count": null,
   "metadata": {},
   "outputs": [],
   "source": []
  },
  {
   "cell_type": "markdown",
   "metadata": {},
   "source": [
    "Make a maximum projection image of `movie_1p` and visualize with 'viridis'"
   ]
  },
  {
   "cell_type": "code",
   "execution_count": null,
   "metadata": {},
   "outputs": [],
   "source": []
  },
  {
   "cell_type": "markdown",
   "metadata": {},
   "source": [
    "Make a maximum projection image of `movie_2p`"
   ]
  },
  {
   "cell_type": "code",
   "execution_count": null,
   "metadata": {},
   "outputs": [],
   "source": []
  },
  {
   "cell_type": "markdown",
   "metadata": {},
   "source": [
    "The next summary image that is used as a template for motion correction is the mean of all frames. Let's get some practice taking mean or median of the frames\n",
    "\n",
    "**Example** Make an average frame for `fake_data_2`"
   ]
  },
  {
   "cell_type": "code",
   "execution_count": null,
   "metadata": {},
   "outputs": [],
   "source": [
    "mean_proj = np.mean(fake_data_2, axis=0)\n",
    "plt.imshow(mean_proj, cmap='gray');"
   ]
  },
  {
   "cell_type": "markdown",
   "metadata": {},
   "source": [
    "Plot mean and median of `fake_data_1` side by side"
   ]
  },
  {
   "cell_type": "code",
   "execution_count": null,
   "metadata": {},
   "outputs": [],
   "source": []
  },
  {
   "cell_type": "markdown",
   "metadata": {},
   "source": [
    "As you see in the image, mean and median of frames can have significant differences."
   ]
  },
  {
   "cell_type": "markdown",
   "metadata": {},
   "source": [
    "Plot mean and median of `movie_1p` side by side"
   ]
  },
  {
   "cell_type": "code",
   "execution_count": null,
   "metadata": {},
   "outputs": [],
   "source": []
  },
  {
   "cell_type": "markdown",
   "metadata": {},
   "source": [
    "Thankfully, there is no significant differences between the two\n",
    "\n",
    "Plot mean and median of `movie_2p` side by side"
   ]
  },
  {
   "cell_type": "code",
   "execution_count": null,
   "metadata": {},
   "outputs": [],
   "source": []
  },
  {
   "cell_type": "markdown",
   "metadata": {},
   "source": [
    "Again, there aren't significant differences between the two. As a result, either mean or median frame can be used for making some analysis.\n",
    "\n",
    "Correlation image can be quite useful in visualizing how each pixel is correlated with its neighbours. If a bright pixel is bright due to neuronal activity, it is usually found to be highly correlated with the neighbouring pixels.\n",
    "\n",
    "**Example** Correlation image is directly done with caiman. Let's try for `movie_1p`"
   ]
  },
  {
   "cell_type": "code",
   "execution_count": null,
   "metadata": {},
   "outputs": [],
   "source": [
    "correlation_image = cm.local_correlations(movie_1p, swap_dim=False)\n",
    "plt.imshow(correlation_image, cmap='gray')"
   ]
  },
  {
   "cell_type": "markdown",
   "metadata": {},
   "source": [
    "Make a correlation image for `movie_2p`"
   ]
  },
  {
   "cell_type": "code",
   "execution_count": null,
   "metadata": {},
   "outputs": [],
   "source": []
  },
  {
   "cell_type": "markdown",
   "metadata": {},
   "source": [
    "If you don't assign `swap_dim` as False, you get weird images as it assumes that the time axis is the last dimension by default. In our case, it is the first dimension.\n",
    "\n",
    "Check this with `movie_2p`"
   ]
  },
  {
   "cell_type": "code",
   "execution_count": null,
   "metadata": {},
   "outputs": [],
   "source": []
  },
  {
   "cell_type": "markdown",
   "metadata": {},
   "source": [
    "## Spatial filtering\n",
    "\n",
    "We will have to employ high pass spatial filtering for motion correction and source extraction for 1-photon imaging to remove background activity which is usually low-frequency activity. Here, let's practice doing high pass and low pass filtering. \n",
    "\n",
    "Low pass filters allow low-frequency components of an image to pass through while attenuating (reducing the amplitude of) high-frequency components. Low-frequency components correspond to the smooth, slowly varying parts of the image, such as broad areas of similar intensity, whereas high-frequency components correspond to the rapid changes in intensity, such as edges or noise.\n",
    "\n",
    "Caiman uses a gaussian filter to perform spatial filtering. Let's see how the image changes when we apply low pass and high pass filters to our images. Gausial filter/kernel specified by npix by npix (for example, (9,9) means a filter size of 9 pixels by 9 pixels). Varying the size of the kernel can impact the smoothness of the resulting image.\n",
    "\n",
    "**Example** Make a low-pass spatial filter with a 9x9 gaussian filter for mean frame of `fake_data_1`\n",
    "\n",
    "```python\n",
    "cv2.GaussianBlur(\n",
    "    image, # image for gaussian blurring\n",
    "    (3, 3), # (kernel size in x, y)\n",
    "    0 # (calculate standard deviation from kernel size)\n",
    ")\n",
    "```"
   ]
  },
  {
   "cell_type": "code",
   "execution_count": null,
   "metadata": {},
   "outputs": [],
   "source": [
    "low_pass = cv2.GaussianBlur(np.mean(fake_data_1, axis=0), (9, 9), 0)\n",
    "\n",
    "plt.subplot(1,2,1)\n",
    "plt.imshow(np.mean(fake_data_1, axis=0), cmap='gray')\n",
    "\n",
    "plt.subplot(1,2,2)\n",
    "plt.imshow(low_pass, cmap='gray')"
   ]
  },
  {
   "cell_type": "markdown",
   "metadata": {},
   "source": [
    "Make a low-pass spatial filter with a 3x3 gaussian filter for mean frame of `fake_data_1`"
   ]
  },
  {
   "cell_type": "code",
   "execution_count": null,
   "metadata": {},
   "outputs": [],
   "source": []
  },
  {
   "cell_type": "markdown",
   "metadata": {},
   "source": [
    "We can make drastic change and see how this affects the image. Make a low-pass spatial filter with a 31x31 gaussian filter for max frame of `fake_data_1`"
   ]
  },
  {
   "cell_type": "code",
   "execution_count": null,
   "metadata": {},
   "outputs": [],
   "source": []
  },
  {
   "cell_type": "markdown",
   "metadata": {},
   "source": [
    "We can create a completely smoothe version of image by using a very large kernel. Make a low-pass spatial filter with a 59x59 gaussian filter for mean frame of `fake_data_2`"
   ]
  },
  {
   "cell_type": "code",
   "execution_count": null,
   "metadata": {},
   "outputs": [],
   "source": []
  },
  {
   "cell_type": "markdown",
   "metadata": {},
   "source": [
    "High pass filters do the opposite of low pass filters; they allow high-frequency components to pass through while attenuating low-frequency components. This emphasizes edges, fine details, and textures in the image, which are associated with rapid changes in intensity.\n",
    "\n",
    "**Example** Make a high-pass spatial filter with a 9x9 gaussian filter for mean frame of `fake_data_1`"
   ]
  },
  {
   "cell_type": "code",
   "execution_count": null,
   "metadata": {},
   "outputs": [],
   "source": [
    "low_pass = cv2.GaussianBlur(np.mean(fake_data_1, axis=0), (9, 9), 0)\n",
    "high_pass = cv2.subtract(np.mean(fake_data_1, axis=0), low_pass)\n",
    "\n",
    "plt.subplot(1,3,1)\n",
    "plt.imshow(np.mean(fake_data_1, axis=0), cmap='gray')\n",
    "\n",
    "plt.subplot(1,3,2)\n",
    "plt.imshow(low_pass, cmap='gray')\n",
    "\n",
    "plt.subplot(1,3,3)\n",
    "plt.imshow(high_pass, cmap='gray')"
   ]
  },
  {
   "cell_type": "markdown",
   "metadata": {},
   "source": [
    "Make a high-pass spatial filter with a 31x31 gaussian filter for mean frame of `fake_data_1`"
   ]
  },
  {
   "cell_type": "code",
   "execution_count": null,
   "metadata": {},
   "outputs": [],
   "source": []
  },
  {
   "cell_type": "markdown",
   "metadata": {},
   "source": [
    "Make a high-pass spatial filter with a 109x109 gaussian filter for mean frame of `fake_data_2`"
   ]
  },
  {
   "cell_type": "code",
   "execution_count": null,
   "metadata": {},
   "outputs": [],
   "source": []
  },
  {
   "cell_type": "markdown",
   "metadata": {},
   "source": [
    "Make a high-pass spatial filter with a 29x29 gaussian filter for max frame of `movie_1p`"
   ]
  },
  {
   "cell_type": "code",
   "execution_count": null,
   "metadata": {},
   "outputs": [],
   "source": []
  },
  {
   "cell_type": "markdown",
   "metadata": {},
   "source": [
    "Make a high-pass spatial filter with a 9x9 gaussian filter for max frame of `movie_2p`"
   ]
  },
  {
   "cell_type": "code",
   "execution_count": null,
   "metadata": {},
   "outputs": [],
   "source": []
  }
 ],
 "metadata": {
  "kernelspec": {
   "display_name": "caiman",
   "language": "python",
   "name": "python3"
  },
  "language_info": {
   "codemirror_mode": {
    "name": "ipython",
    "version": 3
   },
   "file_extension": ".py",
   "mimetype": "text/x-python",
   "name": "python",
   "nbconvert_exporter": "python",
   "pygments_lexer": "ipython3",
   "version": "3.10.13"
  }
 },
 "nbformat": 4,
 "nbformat_minor": 2
}
