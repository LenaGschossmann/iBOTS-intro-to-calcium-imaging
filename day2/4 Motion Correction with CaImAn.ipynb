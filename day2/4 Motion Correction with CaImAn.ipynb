{
 "cells": [
  {
   "cell_type": "code",
   "execution_count": null,
   "metadata": {},
   "outputs": [],
   "source": [
    "# %pip install numpy matplotlib"
   ]
  },
  {
   "cell_type": "code",
   "execution_count": null,
   "metadata": {},
   "outputs": [],
   "source": [
    "import caiman as cm \n",
    "from caiman.motion_correction import MotionCorrect\n",
    "from caiman.source_extraction.cnmf.params import CNMFParams\n",
    "import numpy as np\n",
    "import matplotlib.pyplot as plt\n",
    "from caiman.utils.visualization import view_quilt\n",
    "import sciebo"
   ]
  },
  {
   "cell_type": "code",
   "execution_count": null,
   "metadata": {},
   "outputs": [],
   "source": [
    "sciebo.download_file_from_sciebo('https://uni-bonn.sciebo.de/s/aLuGqYoZRFgwhzF', 'data', 'data_endoscope.tif')\n",
    "sciebo.download_file_from_sciebo('https://uni-bonn.sciebo.de/s/RR7qj7tklW1rX25', 'data', 'Sue_2x_3000_40_-46.tif')"
   ]
  },
  {
   "cell_type": "markdown",
   "metadata": {},
   "source": [
    "# Motion Correction With CaImAn\n",
    "\n",
    "\n",
    "**Example** Load `data/Sue_2x_3000_40_-46.tif` and play using caiman. Pres `q` to close the movie window."
   ]
  },
  {
   "cell_type": "code",
   "execution_count": null,
   "metadata": {},
   "outputs": [],
   "source": [
    "filename = \"data/Sue_2x_3000_40_-46.tif\"\n",
    "raw_data_2p = cm.load(filename)\n",
    "raw_resize = raw_data_2p.copy()\n",
    "resized = raw_resize.resize(fz=0.05)\n",
    "resized.play(plot_text=True, fr=10) "
   ]
  },
  {
   "cell_type": "markdown",
   "metadata": {},
   "source": [
    "The maximum intensity projection image can highlight areas with the highest fluorescence intensity across the frames, which may correspond to regions of high neuronal activity.\n",
    "\n",
    "Make maximum projection of all the frames. Pay attention to the axis of the `raw_data_2p`. The temporal axis is the first axis."
   ]
  },
  {
   "cell_type": "code",
   "execution_count": null,
   "metadata": {},
   "outputs": [],
   "source": [
    "max_proj_2p = np.max(raw_data_2p, axis=0)\n",
    "plt.imshow(max_proj_2p, cmap='gray')"
   ]
  },
  {
   "cell_type": "markdown",
   "metadata": {},
   "source": [
    "\n",
    "Correlation image is useful in calcium imaging data analysis to identify regions of correlated activity. Brigh pixels from active neurons will typically be highly correlated with its neighbors."
   ]
  },
  {
   "cell_type": "code",
   "execution_count": null,
   "metadata": {},
   "outputs": [],
   "source": [
    "corr_2p = cm.local_correlations(raw_data_2p, swap_dim=False)\n",
    "plt.imshow(corr_2p, cmap='gray')"
   ]
  },
  {
   "cell_type": "markdown",
   "metadata": {},
   "source": [
    "## Rigid Motion Correction\n",
    "\n",
    " Rigid motion correction in CaImAn corrects for global, uniform shifts in the imaging data. It assumes the entire field of view moves in the same direction and by the same amount.\n",
    "\n",
    "```python\n",
    "# Step 1: Set path to file\n",
    "fnames = [\"data/Sue_2x_3000_40_-46.tif\"] \n",
    "\n",
    "# Step 2: Create a motion correct object\n",
    "# for rigid motion correction: set pw_rigid = False\n",
    "mc_rigid = MotionCorrect(\n",
    "    fname = fnames,\n",
    "    pw_rigid = False\n",
    ")\n",
    "\n",
    "# Step 3: Use motion_correct method of MotionCorrect object\n",
    "# and save the movie\n",
    "mc_rigid.motion_correct(save_movie=True)\n",
    "\n",
    "```\n"
   ]
  },
  {
   "cell_type": "code",
   "execution_count": null,
   "metadata": {},
   "outputs": [],
   "source": []
  },
  {
   "cell_type": "markdown",
   "metadata": {},
   "source": [
    "The `save_movie = True` makes a memory mapped file which you can see in `data/` folder. A memory-mapped file allows the programs to treat the mapped portion of the file as if it were primary memory. \n",
    "\n",
    "**Example** Find the name of the rigid motion-corrected, memory mapped file."
   ]
  },
  {
   "cell_type": "code",
   "execution_count": null,
   "metadata": {},
   "outputs": [],
   "source": [
    "mc_rigid.fname_tot_rig"
   ]
  },
  {
   "cell_type": "markdown",
   "metadata": {},
   "source": [
    "Find the name of the motion corrected memory mapped file with another attribute of `mc_rigid` instead of `fname_tot_rig`.\n",
    "\n",
    "Hint: type `mc_rigid.` and look into the options provided by autocomplete options and use one that is closely related to memory mapped file"
   ]
  },
  {
   "cell_type": "code",
   "execution_count": null,
   "metadata": {},
   "outputs": [],
   "source": []
  },
  {
   "cell_type": "markdown",
   "metadata": {},
   "source": [
    "When performing rigid motion correction, the process often involves shifting the entire image to align it with a reference frame or image. This alignment can create borders around the edge of the corrected images where no data is available because the image has been moved away from those edges. The `border_nan` attribute is designed to address how these borders are handled. We have not set this to any value. So let's see if the borders have been set to NaN.\n",
    "\n",
    "Using `mc_rigid` check if border_nan has been set to True."
   ]
  },
  {
   "cell_type": "code",
   "execution_count": null,
   "metadata": {},
   "outputs": [],
   "source": []
  },
  {
   "cell_type": "markdown",
   "metadata": {},
   "source": [
    "How many pixels from border are empty? Use `border_to_0` attribute of `mc_rigid`"
   ]
  },
  {
   "cell_type": "code",
   "execution_count": null,
   "metadata": {},
   "outputs": [],
   "source": []
  },
  {
   "cell_type": "markdown",
   "metadata": {},
   "source": [
    "Load the motion corrected file and play the movie"
   ]
  },
  {
   "cell_type": "code",
   "execution_count": null,
   "metadata": {},
   "outputs": [],
   "source": [
    "filename = mc_rigid.fname_tot_rig\n",
    "rigid_data_2p = cm.load(filename)\n",
    "rigid_data_2p_resize = rigid_data_2p.copy()\n",
    "rigid_data_2p_resize.resize(fz=0.05).play(plot_text=True, fr=10) "
   ]
  },
  {
   "cell_type": "markdown",
   "metadata": {},
   "source": [
    "**Example** Compare mean frames of raw data and motion corrected data. \n",
    "\n",
    "motion corrected image looks sharper than the raw image as the frames are more aligned compared to the raw frames.\n",
    "\n",
    "Do you notice the empty borders? They are empty because `border_to_nan` is set to True by default."
   ]
  },
  {
   "cell_type": "code",
   "execution_count": null,
   "metadata": {},
   "outputs": [],
   "source": [
    "raw_mean = np.mean(raw_data_2p, axis=0)\n",
    "mc_rigid_mean = np.mean(rigid_data_2p, axis=0)\n",
    "\n",
    "plt.subplot(121)\n",
    "plt.imshow(raw_mean, cmap='gray')\n",
    "plt.title('Raw Mean')\n",
    "\n",
    "plt.subplot(122)\n",
    "plt.imshow(mc_rigid_mean, cmap='gray')\n",
    "plt.title('Rigid MC Mean')"
   ]
  },
  {
   "cell_type": "markdown",
   "metadata": {},
   "source": [
    "Compare correlation images of raw data and motion corrected data \n"
   ]
  },
  {
   "cell_type": "code",
   "execution_count": null,
   "metadata": {},
   "outputs": [],
   "source": []
  },
  {
   "cell_type": "markdown",
   "metadata": {},
   "source": [
    "Do the whole process of motion correction but let caiman replicate values along border by setting the attribute `border_nan` to 'copy' within MotionCorrect() class."
   ]
  },
  {
   "cell_type": "code",
   "execution_count": null,
   "metadata": {},
   "outputs": [],
   "source": []
  },
  {
   "cell_type": "code",
   "execution_count": null,
   "metadata": {},
   "outputs": [],
   "source": [
    "filename = mc_rigid.fname_tot_rig\n",
    "rigid_data_2p = cm.load(filename)"
   ]
  },
  {
   "cell_type": "markdown",
   "metadata": {},
   "source": [
    "Compare mean frames of raw data and motion corrected data. "
   ]
  },
  {
   "cell_type": "code",
   "execution_count": null,
   "metadata": {},
   "outputs": [],
   "source": []
  },
  {
   "cell_type": "markdown",
   "metadata": {},
   "source": [
    "## Piece-wise Rigid Motion Correction\n",
    "\n",
    "Non-rigid motion correction divides the imaging data into overlapping patches and corrects for movement within each patch independently. This allows for varying movements across different parts of the image\n",
    "\n",
    "Set `pw_rigid=True` in MotionCorrect object called `mc_els` to trigger piece-wise rigid correction. Also, make caiman copy values along border instead of filling with nan "
   ]
  },
  {
   "cell_type": "code",
   "execution_count": null,
   "metadata": {},
   "outputs": [],
   "source": []
  },
  {
   "cell_type": "markdown",
   "metadata": {},
   "source": [
    "Piece-wise rigid motion correction does not create same file as rigid motion correction.\n",
    "\n",
    "Does the above operation create a rigid motion corrected data?\n",
    "\n",
    "Let's check"
   ]
  },
  {
   "cell_type": "code",
   "execution_count": null,
   "metadata": {},
   "outputs": [],
   "source": [
    "mc_els.fname_tot_rig"
   ]
  },
  {
   "cell_type": "markdown",
   "metadata": {},
   "source": [
    "What is the name of piece-wise rigid corrected data?"
   ]
  },
  {
   "cell_type": "code",
   "execution_count": null,
   "metadata": {},
   "outputs": [],
   "source": []
  },
  {
   "cell_type": "markdown",
   "metadata": {},
   "source": [
    "Using mc_els check what is the overlap in x and y pixels?"
   ]
  },
  {
   "cell_type": "code",
   "execution_count": null,
   "metadata": {},
   "outputs": [],
   "source": []
  },
  {
   "cell_type": "markdown",
   "metadata": {},
   "source": [
    "Using mc_els check what is the stride in x and y pixels?"
   ]
  },
  {
   "cell_type": "code",
   "execution_count": null,
   "metadata": {},
   "outputs": [],
   "source": []
  },
  {
   "cell_type": "markdown",
   "metadata": {},
   "source": [
    "Let's load motion corrected file"
   ]
  },
  {
   "cell_type": "code",
   "execution_count": null,
   "metadata": {},
   "outputs": [],
   "source": [
    "filename = mc_els.fname_tot_els\n",
    "pw_rigid_data_2p = cm.load(filename)"
   ]
  },
  {
   "cell_type": "markdown",
   "metadata": {},
   "source": [
    "## `params` Object For Motion Correction\n",
    "\n",
    "`CaImAn` allows us to control the size and overlap of the patches used in piece-wise rigid motion correction by making use of `CNMFParams()`.\n",
    "\n",
    "`CNMFParams()` is a parameter object that we can use to assign attributes of different aspects of analysis such as data specific params, motion correction params, and source extraction params. We will look more into its structure here"
   ]
  },
  {
   "cell_type": "markdown",
   "metadata": {},
   "source": [
    "Run the below cell and look into the structure of `params`?"
   ]
  },
  {
   "cell_type": "code",
   "execution_count": null,
   "metadata": {},
   "outputs": [],
   "source": [
    "params = CNMFParams()\n",
    "params "
   ]
  },
  {
   "cell_type": "markdown",
   "metadata": {},
   "source": [
    "`params` has parameters related to `data`, `motion`, `spatial_params`, `temporal_params` etc.\n",
    "\n",
    "**Example** What are the data specific parameters?"
   ]
  },
  {
   "cell_type": "code",
   "execution_count": null,
   "metadata": {},
   "outputs": [],
   "source": [
    "params.data"
   ]
  },
  {
   "cell_type": "markdown",
   "metadata": {},
   "source": [
    "What are temporal parameters?"
   ]
  },
  {
   "cell_type": "code",
   "execution_count": null,
   "metadata": {},
   "outputs": [],
   "source": []
  },
  {
   "cell_type": "markdown",
   "metadata": {},
   "source": [
    "What are spatial parameters?"
   ]
  },
  {
   "cell_type": "code",
   "execution_count": null,
   "metadata": {},
   "outputs": [],
   "source": []
  },
  {
   "cell_type": "markdown",
   "metadata": {},
   "source": [
    "What are motion correction parameters? What do you think each of these parameters are for?"
   ]
  },
  {
   "cell_type": "code",
   "execution_count": null,
   "metadata": {},
   "outputs": [],
   "source": []
  },
  {
   "cell_type": "markdown",
   "metadata": {},
   "source": [
    "It has many parameters but the important ones are `strides`, `overlaps`, `max_shifts`, `max_deviation_rigid`, and `pw_rigid`. We saw these even when we took a deeper look into `mc_els`\n",
    "\n",
    "`strides`:\n",
    "This parameter determines the size of the steps by which the image is divided into subregions or patches for the piecewise motion correction. A smaller stride will result in smaller patches and potentially more precise correction at the cost of increased computation time. It effectively controls how much of the image is considered in each piecewise correction step.\n",
    "overlaps:\n",
    "\n",
    "`Overlaps`: specify how much adjacent patches overlap with each other. This is important for ensuring smooth transitions between patches after motion correction is applied. A higher overlap can lead to smoother corrections but requires more computational resources. The overlap helps mitigate artifacts that could arise at the boundaries between patches due to independent corrections.\n",
    "\n",
    "`max_shifts`: This parameter defines the maximum allowed shift in pixels for each patch during the motion correction process. It sets a limit on how far a patch can be moved to align with the reference frame or template, preventing overly aggressive corrections that might distort the data. This helps ensure that corrections are reasonable and within expected motion ranges.\n",
    "\n",
    "`max_deviation_rigid`: Max deviation rigid specifies the maximum allowed deviation from rigid motion for the patches. This parameter allows for some flexibility in the piecewise rigid model, accommodating slight deviations from purely rigid motion within each patch. It's a way to balance between rigid and non-rigid correction, providing some leeway for patches to adjust to local motions that don't fit a strictly rigid model.\n",
    "\n",
    "Once a `params` has been created, it can be updated easily. This allows us to change each parameter one at a time."
   ]
  },
  {
   "cell_type": "markdown",
   "metadata": {},
   "source": [
    "**Example** Update strides to (2, 2)"
   ]
  },
  {
   "cell_type": "code",
   "execution_count": null,
   "metadata": {},
   "outputs": [],
   "source": [
    "motion_params = {\n",
    "    'strides': (2, 2)\n",
    "}\n",
    "params.motion.update(motion_params)\n",
    "params.motion"
   ]
  },
  {
   "cell_type": "markdown",
   "metadata": {},
   "source": [
    "Update overlaps to (10, 10)"
   ]
  },
  {
   "cell_type": "code",
   "execution_count": null,
   "metadata": {},
   "outputs": [],
   "source": []
  },
  {
   "cell_type": "markdown",
   "metadata": {},
   "source": [
    "Update max_shifts to (4, 4)"
   ]
  },
  {
   "cell_type": "code",
   "execution_count": null,
   "metadata": {},
   "outputs": [],
   "source": []
  },
  {
   "cell_type": "markdown",
   "metadata": {},
   "source": [
    "Update `max_deviation_rigid` to 4 and `pw_rigid` to True together"
   ]
  },
  {
   "cell_type": "code",
   "execution_count": null,
   "metadata": {},
   "outputs": [],
   "source": []
  },
  {
   "cell_type": "markdown",
   "metadata": {},
   "source": [
    "Change stride to (48, 48) and overlaps to (24, 24). We will use this for piece-wise rigid motion correction"
   ]
  },
  {
   "cell_type": "code",
   "execution_count": null,
   "metadata": {},
   "outputs": [],
   "source": []
  },
  {
   "cell_type": "markdown",
   "metadata": {},
   "source": [
    "Run the below cell to use the params dictionary to do motion correction"
   ]
  },
  {
   "cell_type": "code",
   "execution_count": null,
   "metadata": {},
   "outputs": [],
   "source": [
    "filename = \"data/Sue_2x_3000_40_-46.tif\"\n",
    "fnames = [filename]\n",
    "mc = MotionCorrect(fnames, **params.motion)\n",
    "mc.motion_correct(save_movie=True)"
   ]
  },
  {
   "cell_type": "markdown",
   "metadata": {},
   "source": [
    "## What else can we do with MotionCorrect object?"
   ]
  },
  {
   "cell_type": "markdown",
   "metadata": {},
   "source": [
    "Visualizing shifts for rigid motion correction. We will use CNMFParams() for this. "
   ]
  },
  {
   "cell_type": "code",
   "execution_count": null,
   "metadata": {},
   "outputs": [],
   "source": [
    "params = CNMFParams() \n",
    "motion_params = {\n",
    "    'pw_rigid': False\n",
    "}\n",
    "params.motion.update(\n",
    "    motion_params\n",
    ")\n",
    "\n",
    "filename = \"data/Sue_2x_3000_40_-46.tif\"\n",
    "fnames = [filename]\n",
    "\n",
    "mc_rigid = MotionCorrect(fnames, **params.motion)\n",
    "mc_rigid.motion_correct(save_movie=True)"
   ]
  },
  {
   "cell_type": "markdown",
   "metadata": {},
   "source": [
    "Visualizing shifts in X and Y in each frame"
   ]
  },
  {
   "cell_type": "code",
   "execution_count": null,
   "metadata": {},
   "outputs": [],
   "source": [
    "shifts = mc_rigid.shifts_rig\n",
    "plt.plot(shifts)\n",
    "plt.xlabel('Frames')\n",
    "plt.ylabel('Pixels')\n",
    "plt.legend(['X shifts','Y shifts'])"
   ]
  },
  {
   "cell_type": "markdown",
   "metadata": {},
   "source": [
    "Visualizing shifts for non-rigid motion correction. In this case, different patches can have different shifts as they are corrected separately. Let's see how to visualize them\n",
    "\n",
    "We will use CNMFParams() for this. "
   ]
  },
  {
   "cell_type": "code",
   "execution_count": null,
   "metadata": {},
   "outputs": [],
   "source": [
    "params = CNMFParams() \n",
    "motion_params = {\n",
    "    'pw_rigid': True\n",
    "}\n",
    "params.motion.update(\n",
    "    motion_params\n",
    ")\n",
    "\n",
    "filename = \"data/Sue_2x_3000_40_-46.tif\"\n",
    "fnames = [filename]\n",
    "\n",
    "mc_pw_rigid = MotionCorrect(fnames, **params.motion)\n",
    "mc_pw_rigid.motion_correct(save_movie=True)"
   ]
  },
  {
   "cell_type": "markdown",
   "metadata": {},
   "source": [
    "We can check the number of patches created using x_shifts_els or y_shifts_els\n",
    "\n",
    "x_shifts_els and y_shifts_els has 3000 lists and each list has 4 values indicating shift in 4 different patches."
   ]
  },
  {
   "cell_type": "code",
   "execution_count": null,
   "metadata": {},
   "outputs": [],
   "source": [
    "x_shifts_pw = mc_pw_rigid.x_shifts_els\n",
    "y_shifts_pw = mc_pw_rigid.y_shifts_els\n",
    "\n",
    "len(x_shifts_pw[0])"
   ]
  },
  {
   "cell_type": "markdown",
   "metadata": {},
   "source": [
    "Now, we can plot them as subplots"
   ]
  },
  {
   "cell_type": "code",
   "execution_count": null,
   "metadata": {},
   "outputs": [],
   "source": [
    "patch_1 = [x[0] for x in x_shifts_pw]\n",
    "patch_2 = [x[1] for x in x_shifts_pw]\n",
    "patch_3 = [x[2] for x in x_shifts_pw]\n",
    "patch_4 = [x[3] for x in x_shifts_pw]\n",
    "\n",
    "plt.subplot(411)\n",
    "plt.plot(patch_1)\n",
    "\n",
    "plt.subplot(412)\n",
    "plt.plot(patch_2)\n",
    "\n",
    "plt.subplot(413)\n",
    "plt.plot(patch_3)\n",
    "\n",
    "plt.subplot(414)\n",
    "plt.plot(patch_4)\n",
    "\n",
    "plt.tight_layout()"
   ]
  },
  {
   "cell_type": "code",
   "execution_count": null,
   "metadata": {},
   "outputs": [],
   "source": [
    "patch_1 = [y[0] for y in y_shifts_pw]\n",
    "patch_2 = [y[1] for y in y_shifts_pw]\n",
    "patch_3 = [y[2] for y in y_shifts_pw]\n",
    "patch_4 = [y[3] for y in y_shifts_pw]\n",
    "\n",
    "plt.subplot(411)\n",
    "plt.plot(patch_1)\n",
    "\n",
    "plt.subplot(412)\n",
    "plt.plot(patch_2)\n",
    "\n",
    "plt.subplot(413)\n",
    "plt.plot(patch_3)\n",
    "\n",
    "plt.subplot(414)\n",
    "plt.plot(patch_4)\n",
    "\n",
    "plt.tight_layout()"
   ]
  },
  {
   "cell_type": "markdown",
   "metadata": {},
   "source": [
    "**References**\n",
    "\n",
    "1. `data_endoscope.tif` 1-photon microendoscopic data from mouse dorsal striatum [Reference](https://elifesciences.org/articles/28728#s3).\n",
    "2. `Sue_2x_3000_40_-46.tif` (taken from CaImAn) dataset by Sue Koay and David Tank. 2-photon data from supragranular parietal cortex mouse during a virtual reality task.\n",
    "3. [Motion Correction: Watch video between 10 to 16 minutes](https://www.youtube.com/watch?v=5APzPRbzUIA)"
   ]
  }
 ],
 "metadata": {
  "kernelspec": {
   "display_name": "caiman",
   "language": "python",
   "name": "python3"
  },
  "language_info": {
   "codemirror_mode": {
    "name": "ipython",
    "version": 3
   },
   "file_extension": ".py",
   "mimetype": "text/x-python",
   "name": "python",
   "nbconvert_exporter": "python",
   "pygments_lexer": "ipython3",
   "version": "3.10.13"
  }
 },
 "nbformat": 4,
 "nbformat_minor": 2
}
