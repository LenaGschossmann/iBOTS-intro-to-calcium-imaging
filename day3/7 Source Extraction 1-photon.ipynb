{
 "cells": [
  {
   "cell_type": "code",
   "execution_count": null,
   "metadata": {},
   "outputs": [],
   "source": [
    "# %pip install ipympl"
   ]
  },
  {
   "cell_type": "code",
   "execution_count": null,
   "metadata": {},
   "outputs": [],
   "source": [
    "%matplotlib widget\n",
    "\n",
    "import caiman as cm \n",
    "import matplotlib.pyplot as plt\n",
    "import numpy as np\n",
    "from caiman.motion_correction import MotionCorrect\n",
    "from caiman.source_extraction.cnmf.params import CNMFParams \n",
    "from caiman.source_extraction.cnmf import cnmf\n",
    "from caiman.utils.visualization import plot_contours, nb_view_patches, nb_plot_contour, view_quilt, inspect_correlation_pnr, nb_inspect_correlation_pnr \n",
    "import sciebo"
   ]
  },
  {
   "cell_type": "code",
   "execution_count": null,
   "metadata": {},
   "outputs": [],
   "source": [
    "sciebo.download_file_from_sciebo('https://uni-bonn.sciebo.de/s/RR7qj7tklW1rX25', 'data', 'data_endoscope.tif')"
   ]
  },
  {
   "cell_type": "markdown",
   "metadata": {},
   "source": [
    "# Constrained Non-Negative Matrix Factorization- Endoscopic (CNMF-E) Algorithm\n",
    "\n",
    "Usually for 1-photon (or 2-photon with ill behaved background activity), we should employ the workflow outlined in this notebook. The key factors here to consider are\n",
    "\n",
    "1. Motion Correction has to be done on filtered imaging data. As there are low-frequency background activity here, they might be thought of as a pattern during motion correction leading to incorrect image registration. `caiman` has parameters that help with this.\n",
    "2. In 2-photon, we assumed less number of background components. In this case, we have to use a different way of getting background estimates as they are not well behaved and has local variations. Therefore, a different backgroun model called the ring model is employed. Ring model estimates background at each pixel (yes! pixel level background estimation) by defining a ring around each pixel. This makes CNMFE more computationally expensive than CNMF."
   ]
  },
  {
   "cell_type": "markdown",
   "metadata": {},
   "source": [
    "## Preparing Data For Source Extraction"
   ]
  },
  {
   "cell_type": "code",
   "execution_count": null,
   "metadata": {},
   "outputs": [],
   "source": [
    "fname = \"data/data_endoscope.tif\"\n",
    "movie_orig = cm.load(fname)"
   ]
  },
  {
   "cell_type": "code",
   "execution_count": null,
   "metadata": {},
   "outputs": [],
   "source": [
    "params = CNMFParams()"
   ]
  },
  {
   "cell_type": "markdown",
   "metadata": {},
   "source": [
    "Change frame_rate to 10 and decay_time to 0.4 in the `data` part of params"
   ]
  },
  {
   "cell_type": "code",
   "execution_count": null,
   "metadata": {},
   "outputs": [],
   "source": [
    "params.data.update(\n",
    "    {\n",
    "        'fr': 10,\n",
    "        'decay_time': 0.4\n",
    "    }\n",
    ")"
   ]
  },
  {
   "cell_type": "code",
   "execution_count": null,
   "metadata": {},
   "outputs": [],
   "source": [
    "motion_params = {\n",
    "    'pw_rigid': False,\n",
    "    'max_shifts': (5, 5),\n",
    "    'strides': (48, 48),\n",
    "    'overlaps': (24, 24),\n",
    "    'max_deviation_rigid': 3\n",
    "}\n",
    "params.motion.update(motion_params)\n",
    "\n",
    "mc = MotionCorrect(fname, **params.motion)\n",
    "mc.motion_correct(save_movie=True)\n",
    "\n",
    "plt.imshow(mc.total_template_rig, cmap='gray')\n",
    "plt.show();"
   ]
  },
  {
   "cell_type": "markdown",
   "metadata": {},
   "source": [
    "For 1-photon imaging data, it is important to remove low-frequency background activity. Therefore, we apply a gaussian filter as pre-processing step\n",
    "\n",
    "**Example** Redo the motion correction with the same params as above with a modification to 'gSig_filt' = (3, 3)"
   ]
  },
  {
   "cell_type": "code",
   "execution_count": null,
   "metadata": {},
   "outputs": [],
   "source": [
    "params.motion.update(\n",
    "    {\n",
    "        'gSig_filt': (3,3)\n",
    "    }\n",
    ")\n",
    "\n",
    "mc = MotionCorrect(fname, **params.motion)\n",
    "mc.motion_correct(save_movie=True)\n",
    "\n",
    "plt.imshow(mc.total_template_rig, cmap='gray')\n",
    "plt.show();"
   ]
  },
  {
   "cell_type": "markdown",
   "metadata": {},
   "source": [
    "Redo the motion correction with 'gSig_filt' = (11, 11)"
   ]
  },
  {
   "cell_type": "code",
   "execution_count": null,
   "metadata": {},
   "outputs": [],
   "source": []
  },
  {
   "cell_type": "markdown",
   "metadata": {},
   "source": [
    "Let's exaggerate this even further! Redo the motion correction with 'gSig_filt' = (151, 151)"
   ]
  },
  {
   "cell_type": "code",
   "execution_count": null,
   "metadata": {},
   "outputs": [],
   "source": []
  },
  {
   "cell_type": "markdown",
   "metadata": {},
   "source": [
    "Great! Let's bring back the gaussian filter window to (3, 3) and finalize motion correction"
   ]
  },
  {
   "cell_type": "code",
   "execution_count": null,
   "metadata": {},
   "outputs": [],
   "source": []
  },
  {
   "cell_type": "markdown",
   "metadata": {},
   "source": [
    "Now, let's transform the memory mapped file into a format that can be used by CaImAn for source extraction"
   ]
  },
  {
   "cell_type": "code",
   "execution_count": null,
   "metadata": {},
   "outputs": [],
   "source": [
    "mc_fname = mc.fname_tot_rig  \n",
    "bord_px = 0  \n",
    "fname_new = cm.save_memmap(mc_fname, base_name='memmap_', order='C', border_to_0=bord_px)"
   ]
  },
  {
   "cell_type": "code",
   "execution_count": null,
   "metadata": {},
   "outputs": [],
   "source": [
    "Yr, dims, T = cm.load_memmap(fname_new)\n",
    "images = Yr.T.reshape((T,) + dims, order='F')"
   ]
  },
  {
   "cell_type": "code",
   "execution_count": null,
   "metadata": {},
   "outputs": [],
   "source": [
    "plt.imshow(np.max(images, axis=0), cmap='gray')\n",
    "plt.show();"
   ]
  },
  {
   "cell_type": "markdown",
   "metadata": {},
   "source": [
    "## CNMFE for 1-photon source extraction\n",
    "\n",
    "\n",
    "There are two key parameters (along with a few more) that need to be set to trigger CNMFE algorithm instead of CNMF algorithm. \n",
    "They are:\n",
    "\n",
    "1. nb = 0 (Number of background components. Setting this to 0 will make CaImAn use CNMFE algorithm)\n",
    "2. method_init = 'corr_pnr' (Using correlation and Peak-to-Noise Ratio)\n",
    "\n",
    "\n",
    "These are only to trigger CNMFE algorithm rather than CNMF. There are others (really) important parameters that we need to set At the end, we will consolidate these parameters and run CNMF fit."
   ]
  },
  {
   "cell_type": "code",
   "execution_count": null,
   "metadata": {},
   "outputs": [],
   "source": [
    "cnmfe_model = cnmf.CNMF(n_processes=1, params=params)"
   ]
  },
  {
   "cell_type": "code",
   "execution_count": null,
   "metadata": {},
   "outputs": [],
   "source": [
    "cnmfe_model.params"
   ]
  },
  {
   "cell_type": "markdown",
   "metadata": {},
   "source": [
    "\n",
    "**Example** Set 'method_init' to 'corr_pnr', 'nb' to 0, and 'center_psf' to True in params.\n",
    "\n",
    "Inspect the image that opens in the browser. How many components did the model identify?"
   ]
  },
  {
   "cell_type": "code",
   "execution_count": null,
   "metadata": {},
   "outputs": [],
   "source": [
    "cnmfe_model.params.change_params(\n",
    "    {\n",
    "        'nb': 0,\n",
    "        'method_init': 'corr_pnr',\n",
    "        'center_psf': True\n",
    "    }\n",
    ")\n",
    "cnmfe_fit = cnmfe_model.fit(images)\n",
    "corr_image = cm.local_correlations(images, swap_dim=False)\n",
    "cnmfe_fit.estimates.plot_contours_nb(img=corr_image);"
   ]
  },
  {
   "cell_type": "markdown",
   "metadata": {},
   "source": [
    "Let's try to set other parameters to identify more components. It's better to have false positives than false negatives as we can remove the bad components using component evaluation.\n",
    "\n",
    "Set 'gSig' to np.array([3, 3]) and 'gSiz' to np.array([7, 7]). 'gSiz' is usually twice the value of 'gSig'+1"
   ]
  },
  {
   "cell_type": "code",
   "execution_count": null,
   "metadata": {},
   "outputs": [],
   "source": [
    "cnmfe_model.params.change_params(\n",
    "    {\n",
    "        'gSig': np.array([3, 3]),\n",
    "        'gSiz': np.array([7, 7])\n",
    "    }\n",
    ")\n",
    "cnmfe_fit = cnmfe_model.fit(images)\n",
    "corr_image = cm.local_correlations(images, swap_dim=False)\n",
    "cnmfe_fit.estimates.plot_contours_nb(img=corr_image);"
   ]
  },
  {
   "cell_type": "markdown",
   "metadata": {},
   "source": [
    "Let's remove the upper bound in K (number of components per patch) by making it `None` and set order of autoregressive (p) to 1. \n",
    "\n",
    "Optional: Downsample in time (`tsub`) by a factor of more than 2 and/or space (`ssub`) by a factor of more than 1 if memory issues come up"
   ]
  },
  {
   "cell_type": "code",
   "execution_count": null,
   "metadata": {},
   "outputs": [],
   "source": [
    "cnmfe_model.params.change_params(\n",
    "    {\n",
    "        'K': None,\n",
    "        'p': 1,\n",
    "        'tsub': 2,\n",
    "        'ssub': 1\n",
    "    }\n",
    ")\n",
    "cnmfe_fit = cnmfe_model.fit(images)\n",
    "corr_image = cm.local_correlations(images, swap_dim=False)\n",
    "cnmfe_fit.estimates.plot_contours_nb(img=corr_image);"
   ]
  },
  {
   "cell_type": "markdown",
   "metadata": {},
   "source": [
    "There are still many more parameters to be set here. Let's consolidate the important parameters that you can set or modify for 1-photon data \n",
    "\n",
    "Below explanation of each parameter is taken from the tutorial for CNMFE algorithm\n",
    "\n",
    "| Parameter           | Description                                                               | Value                  |\n",
    "|---------------------|---------------------------------------------------------------------------|------------------------|\n",
    "| `p`                 | Order of the autoregressive system                                        | 1                      |\n",
    "| `K`                 | Upper bound on number of components per patch, generally None for CNMFE   | None                   |\n",
    "| `gSig`              | Expected half-width of neurons in pixels                                  | np.array([3, 3])       |\n",
    "| `gSiz`              | Half-width of bounding box created around neurons during initialization   | 2*gSig + 1             |\n",
    "| `merge_thr`         | Merging threshold, max correlation allowed                                | .7                     |\n",
    "| `rf`                | Half-size of the patches in pixels (e.g., if rf=40, patches are 80x80)    | 40                     |\n",
    "| `stride_cnmf`       | Amount of overlap between the patches in pixels                           | 20                     |\n",
    "| `tsub`              | Downsampling factor in time for initialization                            | 2                      |\n",
    "| `ssub`              | Downsampling factor in space for initialization                           | 1                      |\n",
    "| `gnb`               | Number of background components (rank), set to 0 for CNMFE if positive    | 0                      |\n",
    "| `low_rank_background` | Leaves background of each patch intact (use True if gnb>0)               | None                   |\n",
    "| `nb_patch`          | Number of background components (rank) per patch (0 for CNMFE)            | 0                      |\n",
    "| `min_corr`          | Min peak value from correlation image                                     | .8                     |\n",
    "| `min_pnr`           | Min peak to noise ratio from PNR image                                    | 10                     |\n",
    "| `ssub_B`            | Additional downsampling factor in space for background                    | 2                      |\n",
    "| `ring_size_factor`  | Radius of ring is gSiz*ring_size_factor                                   | 1.4                    |\n"
   ]
  },
  {
   "cell_type": "code",
   "execution_count": null,
   "metadata": {},
   "outputs": [],
   "source": [
    "cnmfe_model.params.change_params({\n",
    "                                'method_init': 'corr_pnr',\n",
    "                                'K': None,\n",
    "                                'gSig': np.array([3,3]),\n",
    "                                'gSiz': np.array([7,7]),\n",
    "                                'p': 1,\n",
    "                                'tsub': 2,\n",
    "                                'ssub': 1,\n",
    "                                'ssub_B': 2,\n",
    "                                'nb': 0,\n",
    "                                'nb_patch': 0,\n",
    "                                'min_corr': 0.8,\n",
    "                                'min_pnr': 10,\n",
    "                                'center_psf': True,\n",
    "                                'merge_thr': 0.7,\n",
    "                                'low_rank_background': None,\n",
    "                                'update_background_components': True,\n",
    "                                'del_duplicates': True,\n",
    "                                'rf': 40,\n",
    "                                'stride': 20\n",
    "})\n",
    "cnmfe_fit = cnmfe_model.fit(images)\n",
    "corr_image = cm.local_correlations(images, swap_dim=False)\n",
    "cnmfe_fit.estimates.plot_contours_nb(img=corr_image);"
   ]
  },
  {
   "cell_type": "markdown",
   "metadata": {},
   "source": [
    "There are still two parameters that may need modification. \n",
    "\n",
    "`min_corr` and `min_pnr` are **really** important parameters that control how many components are identified. \n",
    "\n",
    "Any pixel below `min_corr` value in the correlation image will be filtered out. Similarly, any pixels below `min_pnr` will also be filtered out. Therefore, setting these values as low as possible to retain most of the components is important\n",
    "\n",
    "Set `min_corr` to 1.0 and `min_pnr` to 30. How many components are identified? "
   ]
  },
  {
   "cell_type": "code",
   "execution_count": null,
   "metadata": {},
   "outputs": [],
   "source": []
  },
  {
   "cell_type": "markdown",
   "metadata": {},
   "source": [
    "Set `min_corr` to 0.5 and `min_pnr` to 15. How many components are identified? "
   ]
  },
  {
   "cell_type": "code",
   "execution_count": null,
   "metadata": {},
   "outputs": [],
   "source": []
  },
  {
   "cell_type": "markdown",
   "metadata": {},
   "source": [
    "Let's use a vizualization that will help us set min_corr and min_pnr\n",
    "\n",
    "In the resulting plot, adjust vmin of correlation image and PNR such that the images are mostly neurons and less of noise. The vmin values can be used as min_corr and min_pnr \n",
    "\n",
    "Remember that we need a lower bound and not the upper bound. Higher values will result in more false negatives"
   ]
  },
  {
   "cell_type": "code",
   "execution_count": null,
   "metadata": {},
   "outputs": [],
   "source": [
    "gsig = (3, 3)\n",
    "plt.figure()\n",
    "correlation_image, peak_to_noise_ratio = cm.summary_images.correlation_pnr(images[::max(T//1000, 1)], \n",
    "                                                                           gSig=gsig[0], \n",
    "                                                                           swap_dim=False)\n",
    "\n",
    "inspect_correlation_pnr(correlation_image, peak_to_noise_ratio)"
   ]
  },
  {
   "cell_type": "markdown",
   "metadata": {},
   "source": [
    "In the below cell, change min_corr and min_pnr"
   ]
  },
  {
   "cell_type": "code",
   "execution_count": null,
   "metadata": {},
   "outputs": [],
   "source": [
    "min_corr = 0.8\n",
    "min_pnr = 12\n",
    "\n",
    "cnmfe_model.params.change_params({\n",
    "                                'method_init': 'corr_pnr',\n",
    "                                'K': None,\n",
    "                                'gSig': np.array([3,3]),\n",
    "                                'gSiz': np.array([7,7]),\n",
    "                                'p': 1,\n",
    "                                'tsub': 2,\n",
    "                                'ssub': 1,\n",
    "                                'ssub_B': 2,\n",
    "                                'nb': 0,\n",
    "                                'nb_patch': 0,\n",
    "                                'min_corr': #your_min_corr,\n",
    "                                'min_pnr': #your_min_pnr,\n",
    "                                'center_psf': True,\n",
    "                                'merge_thr': 0.7,\n",
    "                                'low_rank_background': None,\n",
    "                                'update_background_components': True,\n",
    "                                'del_duplicates': True,\n",
    "                                'rf': 40,\n",
    "                                'stride': 20\n",
    "})\n",
    "cnmfe_fit = cnmfe_model.fit(images)\n",
    "corr_image = cm.local_correlations(images, swap_dim=False)\n",
    "cnmfe_fit.estimates.plot_contours_nb(img=corr_image);"
   ]
  },
  {
   "cell_type": "markdown",
   "metadata": {},
   "source": [
    "## Exploring the Estimates Class\n",
    "\n",
    "\n",
    "**Example** How many components were identified here?"
   ]
  },
  {
   "cell_type": "code",
   "execution_count": null,
   "metadata": {},
   "outputs": [],
   "source": [
    "cnmfe_fit.estimates.C.shape"
   ]
  },
  {
   "cell_type": "markdown",
   "metadata": {},
   "source": [
    "**Example** Converting to pandas dataframe"
   ]
  },
  {
   "cell_type": "code",
   "execution_count": null,
   "metadata": {},
   "outputs": [],
   "source": [
    "import pandas as pd\n",
    "\n",
    "frame_rate = cnmfe_fit.params.data['fr']\n",
    "frame_pd = 1/frame_rate\n",
    "frame_times = np.linspace(0, T*frame_pd, T);\n",
    "\n",
    "data_to_save = np.vstack((frame_times, cnmfe_fit.estimates.S)).T  # Transpose so time series are in columns\n",
    "save_df = pd.DataFrame(data_to_save)\n",
    "save_df.rename(columns={0:'time'}, inplace=True)\n",
    "# save_df.to_csv('1p_spike_counts.csv')"
   ]
  },
  {
   "cell_type": "markdown",
   "metadata": {},
   "source": [
    "**Example** Plot denoised calcium traces of the first component"
   ]
  },
  {
   "cell_type": "code",
   "execution_count": null,
   "metadata": {},
   "outputs": [],
   "source": [
    "plt.figure()\n",
    "plt.plot(cnmfe_fit.estimates.C[0])\n",
    "plt.show();"
   ]
  },
  {
   "cell_type": "markdown",
   "metadata": {},
   "source": [
    "**Caiman tutorials suggest to treat estimates.S (spike counts) with caution as there is no simultaneous ground-truth recordings to evaluate the deconvolution. Instead, they suggest to use estimates.C. Nevertheless, let's visualize them to see how they look like**"
   ]
  },
  {
   "cell_type": "markdown",
   "metadata": {},
   "source": [
    "**Example** Plot spike counts of first component"
   ]
  },
  {
   "cell_type": "code",
   "execution_count": null,
   "metadata": {},
   "outputs": [],
   "source": [
    "plt.figure()\n",
    "plt.plot(cnmfe_fit.estimates.S[0])\n",
    "plt.show();"
   ]
  },
  {
   "cell_type": "markdown",
   "metadata": {},
   "source": [
    "**Example** Plot spike counts with spike times of first component"
   ]
  },
  {
   "cell_type": "code",
   "execution_count": null,
   "metadata": {},
   "outputs": [],
   "source": [
    "plt.clf()\n",
    "plt.plot(save_df['time'], save_df[1])\n",
    "plt.xlabel('Time [s]')\n",
    "plt.ylabel('Counts')\n",
    "plt.show();"
   ]
  },
  {
   "cell_type": "markdown",
   "metadata": {},
   "source": [
    "## Extra exercises\n",
    "\n",
    "1. Set min_corr, min_pnr to very low and very high values. How does this affect the results?\n",
    "2. Try changing other parameters to different values and see how it affects the results"
   ]
  }
 ],
 "metadata": {
  "kernelspec": {
   "display_name": "caiman",
   "language": "python",
   "name": "python3"
  },
  "language_info": {
   "codemirror_mode": {
    "name": "ipython",
    "version": 3
   },
   "file_extension": ".py",
   "mimetype": "text/x-python",
   "name": "python",
   "nbconvert_exporter": "python",
   "pygments_lexer": "ipython3",
   "version": "3.10.13"
  }
 },
 "nbformat": 4,
 "nbformat_minor": 2
}
