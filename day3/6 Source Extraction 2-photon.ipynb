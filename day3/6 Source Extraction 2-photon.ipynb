{
 "cells": [
  {
   "cell_type": "code",
   "execution_count": null,
   "metadata": {},
   "outputs": [],
   "source": [
    "# %pip install ipympl"
   ]
  },
  {
   "cell_type": "code",
   "execution_count": null,
   "metadata": {},
   "outputs": [],
   "source": [
    "# %matplotlib widget\n",
    "import numpy as np\n",
    "import caiman as cm\n",
    "import matplotlib.pyplot as plt\n",
    "from caiman.motion_correction import MotionCorrect\n",
    "from caiman.source_extraction.cnmf import cnmf\n",
    "from caiman.source_extraction.cnmf.params import CNMFParams\n",
    "from caiman.utils.visualization import view_quilt\n",
    "import pandas as pd\n",
    "import sciebo\n",
    "import holoviews as hv\n",
    "import bokeh.plotting as bpl\n",
    "bpl.output_notebook()\n",
    "hv.notebook_extension('bokeh')"
   ]
  },
  {
   "cell_type": "code",
   "execution_count": null,
   "metadata": {},
   "outputs": [],
   "source": [
    "sciebo.download_file_from_sciebo('https://uni-bonn.sciebo.de/s/RR7qj7tklW1rX25', 'data', 'Sue_2x_3000_40_-46.tif')"
   ]
  },
  {
   "cell_type": "markdown",
   "metadata": {},
   "source": [
    "# 2-Photon Source Extraction\n",
    "\n",
    "We will be working on extracting denoised calcium traces and spike counts from the sources from 2-photon imaging. We will be making use of Constrained Non-Negative Matrix Factorization (CNMF) algorithm [(Paper)](https://pubmed.ncbi.nlm.nih.gov/26774160/). Although we are applying this to a 2-photon imaging data, it is also suitable for 1-photon data that has less background noise. The basic workflow for source extraction from CNMF is\n",
    "\n",
    "1. Motion correction (either rigid or non-rigid depending on the type of motion in the data).\n",
    "2. Setting parameters for source extraction (**important** K and gSig).\n",
    "3. Fitting CNMF model. \n",
    "4. Refitting with only spatial parameters. \n",
    "5. Visualize the contours of extracted sources.\n",
    "6. (Repeat steps 2 to 5 until you are satisfied*. You mostly have to adjust K and gSig).\n",
    "7. Use `Estimates` class to extract calcium traces.\n",
    "\n",
    "*We will work on component evaluation process in another notebook"
   ]
  },
  {
   "cell_type": "markdown",
   "metadata": {},
   "source": [
    "## Preparing data for Source Extraction\n",
    "\n",
    "In this step we will do motion correction, see how to save motion correction file as a memory map, and then read it in a format suitable for CNMF algorithm."
   ]
  },
  {
   "cell_type": "code",
   "execution_count": null,
   "metadata": {},
   "outputs": [],
   "source": [
    "fname = \"data/Sue_2x_3000_40_-46.tif\"\n",
    "movie_orig = cm.load(fname)"
   ]
  },
  {
   "cell_type": "code",
   "execution_count": null,
   "metadata": {},
   "outputs": [],
   "source": [
    "# data specific parameters\n",
    "params = CNMFParams()\n",
    "data_dependent_params = {\n",
    "    'fr': 30,\n",
    "    'decay_time': 0.4,\n",
    "    'dxy': (2., 2.)\n",
    "}\n",
    "params.data.update(data_dependent_params)"
   ]
  },
  {
   "cell_type": "markdown",
   "metadata": {},
   "source": [
    "Set motion parameters to the following values\n",
    "\n",
    "'strides' to (48, 48),\n",
    "'overlaps' to (24, 24),\n",
    "'max_shifts' to (6, 6),\n",
    "'max_deviation_rigid' to 3,\n",
    "'pw_rigid' to True"
   ]
  },
  {
   "cell_type": "code",
   "execution_count": null,
   "metadata": {},
   "outputs": [],
   "source": [
    "params.motion.update(motion_params)"
   ]
  },
  {
   "cell_type": "code",
   "execution_count": null,
   "metadata": {},
   "outputs": [],
   "source": [
    "# motion specific parameters\n",
    "motion_params = {\n",
    "    'strides': (48, 48),\n",
    "    'overlaps': (24, 24),\n",
    "    'max_shifts': (6, 6),\n",
    "    'max_deviation_rigid': 3,\n",
    "    'pw_rigid': True\n",
    "}\n",
    "params.motion.update(motion_params)"
   ]
  },
  {
   "cell_type": "markdown",
   "metadata": {},
   "source": [
    "Perform motion correction"
   ]
  },
  {
   "cell_type": "code",
   "execution_count": null,
   "metadata": {},
   "outputs": [],
   "source": [
    "mc = MotionCorrect(fname, **params.motion)\n",
    "mc.motion_correct(save_movie=True)\n",
    "mc.fname_tot_els"
   ]
  },
  {
   "cell_type": "markdown",
   "metadata": {},
   "source": [
    "Let's see how to save the motion corrected frames as a C order memory map"
   ]
  },
  {
   "cell_type": "code",
   "execution_count": null,
   "metadata": {},
   "outputs": [],
   "source": [
    "# saving a C order memory map\n",
    "mc_fname = cm.save_memmap(\n",
    "    mc.fname_tot_els,\n",
    "    base_name='memmap_',\n",
    "    order='C'\n",
    ")"
   ]
  },
  {
   "cell_type": "markdown",
   "metadata": {},
   "source": [
    "Now we have to read the memory map as an image (and do some reshaping)"
   ]
  },
  {
   "cell_type": "code",
   "execution_count": null,
   "metadata": {},
   "outputs": [],
   "source": [
    "Yr, dims, num_frames = cm.load_memmap(mc_fname)\n",
    "images = np.reshape(Yr.T, [num_frames] + list(dims), order='F')\n",
    "images.shape"
   ]
  },
  {
   "cell_type": "markdown",
   "metadata": {},
   "source": [
    "## Setting Parameters\n",
    "\n",
    "We can define patches whose width is set by (receptive field) rf and stride (overlap). CNMF will run parallelly on the patches and merge results at the end. It runs in two steps\n",
    "\n",
    "Step 1: initialization with parameters </br>\n",
    "Step 2: fitting the data\n",
    "\n",
    "In this section we will focus on initialization and changing parameters.\n",
    "\n",
    "There are many parameters that we can set for CNMF algorithm but let's focus on some of the most important ones. While setting the below parameters we have to be able to answer the following questions. \n",
    "\n",
    "| Parameter | Description                                        | Question                                                      |\n",
    "|-----------|----------------------------------------------------|---------------------------------------------------------------|\n",
    "| `rf`      | receptive field is half width of patches          | Is the patch half width at least three times the width of a neuron? Answer should be yes. |\n",
    "| `stride`  | overlap between patches                           | Do individual neurons fit in the overlap region? Answer should be yes.             |\n",
    "| `gSig`    | sigma of a Gaussian filter run on images          | Is gSig about half the width of neuron? Answer should be yes.                       |\n",
    "| `K`       | expected number of neurons in each patch          | How many neurons are in the densest patch? Upper bound.      |\n",
    "\n",
    "\n",
    "Although we will not be resetting rf and stride frequently, we still need them to set `K`\n",
    "**Example** Plot the patches with rf=15 and stride=10 and answer the first two questions"
   ]
  },
  {
   "cell_type": "code",
   "execution_count": null,
   "metadata": {},
   "outputs": [],
   "source": [
    "patch_params = {\n",
    "    \"rf\": 3,\n",
    "    \"stride\": 1\n",
    "}\n",
    "params.patch.update(patch_params)\n",
    "cnmf_model = cnmf.CNMF(n_processes=1, params=params)\n",
    "\n",
    "cnmf_patch_width = cnmf_model.params.patch['rf']*2 + 1\n",
    "cnmf_patch_overlap = cnmf_model.params.patch['stride'] + 1\n",
    "cnmf_patch_stride = cnmf_patch_width - cnmf_patch_overlap\n",
    "\n",
    "correlation_image = cm.local_correlations(images, swap_dim=False)\n",
    "\n",
    "patch_ax = view_quilt(correlation_image, \n",
    "                      cnmf_patch_stride, \n",
    "                      cnmf_patch_overlap, \n",
    ");\n",
    "patch_ax.set_title(f'CNMF Patches Width {cnmf_patch_width}, Overlap {cnmf_patch_overlap}');"
   ]
  },
  {
   "cell_type": "markdown",
   "metadata": {},
   "source": [
    "Plot the patches with rf=5 and stride=3 and answer the first two questions"
   ]
  },
  {
   "cell_type": "code",
   "execution_count": null,
   "metadata": {},
   "outputs": [],
   "source": []
  },
  {
   "cell_type": "markdown",
   "metadata": {},
   "source": [
    "Plot the patches with rf=15 and stride=3 and answer the first two questions"
   ]
  },
  {
   "cell_type": "code",
   "execution_count": null,
   "metadata": {},
   "outputs": [],
   "source": []
  },
  {
   "cell_type": "markdown",
   "metadata": {},
   "source": [
    "Plot the patches with rf=15 and stride=10 and answer the first two questions"
   ]
  },
  {
   "cell_type": "code",
   "execution_count": null,
   "metadata": {},
   "outputs": [],
   "source": []
  },
  {
   "cell_type": "markdown",
   "metadata": {},
   "source": [
    "Look at the densest region of the median image. What do you think is a good initial estimate of `K` and `gSig`. `K` is the number of neurons in the densest part of the image (It is better to overestimate than underestimate because if the results are wrong, you can refit the whole model by lowering `K`.) `gSig` should be roughly half the length and width of a neuron in pixels. "
   ]
  },
  {
   "cell_type": "code",
   "execution_count": null,
   "metadata": {},
   "outputs": [],
   "source": []
  },
  {
   "cell_type": "markdown",
   "metadata": {},
   "source": [
    "Set appropriate value to `gSig` and `K` in the below cell"
   ]
  },
  {
   "cell_type": "code",
   "execution_count": null,
   "metadata": {},
   "outputs": [],
   "source": [
    "gsig_K = {\n",
    "    'gSig': #(x, y)\n",
    "    'K': #number\n",
    "    }\n",
    "\n",
    "cnmf_model.params.change_params(gsig_K)\n"
   ]
  },
  {
   "cell_type": "markdown",
   "metadata": {},
   "source": [
    "## CNMF Model (fitting and refitting)"
   ]
  },
  {
   "cell_type": "code",
   "execution_count": null,
   "metadata": {},
   "outputs": [],
   "source": [
    "cnmf_fit = cnmf_model.fit(images)\n",
    "correlation_image = cm.local_correlations(images, swap_dim=False)\n",
    "cnmf_fit.estimates.plot_contours_nb(img=correlation_image)"
   ]
  },
  {
   "cell_type": "code",
   "execution_count": null,
   "metadata": {},
   "outputs": [],
   "source": [
    "cnmf_refit = cnmf_fit.refit(images)\n",
    "correlation_image = cm.local_correlations(images, swap_dim=False)\n",
    "cnmf_refit.estimates.plot_contours_nb(img=correlation_image);"
   ]
  },
  {
   "cell_type": "markdown",
   "metadata": {},
   "source": [
    "There will be many false positives. We will see how to reject them in component evaluation notebook\n",
    "\n",
    "\n",
    "Fitting and refitting results in the `Estimates`. All our results are in this class. "
   ]
  },
  {
   "cell_type": "markdown",
   "metadata": {},
   "source": [
    "## Exploring the Estimates Class\n",
    "\n",
    "`Estimates` class contains `C` (denoised calcium traces), `S` (Spike count estimate), `A` (Spatial footprints) and many more! \n",
    "\n",
    "**Example** How many components were identified by `cnmf_fit`"
   ]
  },
  {
   "cell_type": "code",
   "execution_count": null,
   "metadata": {},
   "outputs": [],
   "source": [
    "cnmf_fit.estimates.C.shape"
   ]
  },
  {
   "cell_type": "markdown",
   "metadata": {},
   "source": [
    "How many components were identified by `cnmf_refit`. What is the difference?"
   ]
  },
  {
   "cell_type": "code",
   "execution_count": null,
   "metadata": {},
   "outputs": [],
   "source": []
  },
  {
   "cell_type": "markdown",
   "metadata": {},
   "source": [
    "How many background components in `cnmf_fit`?"
   ]
  },
  {
   "cell_type": "code",
   "execution_count": null,
   "metadata": {},
   "outputs": [],
   "source": [
    "cnmf_fit.estimates.b.shape"
   ]
  },
  {
   "cell_type": "markdown",
   "metadata": {},
   "source": [
    "How many background components in `cnmf_refit`?"
   ]
  },
  {
   "cell_type": "code",
   "execution_count": null,
   "metadata": {},
   "outputs": [],
   "source": [
    "cnmf_refit.estimates.b.shape"
   ]
  },
  {
   "cell_type": "markdown",
   "metadata": {},
   "source": [
    "**Example** Plot the denoised calcium traces of first component from refit"
   ]
  },
  {
   "cell_type": "code",
   "execution_count": null,
   "metadata": {},
   "outputs": [],
   "source": [
    "plt.plot(cnmf_refit.estimates.C[0]);"
   ]
  },
  {
   "cell_type": "markdown",
   "metadata": {},
   "source": [
    "Plot the denoised calcium traces of second component from refit"
   ]
  },
  {
   "cell_type": "code",
   "execution_count": null,
   "metadata": {},
   "outputs": [],
   "source": []
  },
  {
   "cell_type": "markdown",
   "metadata": {},
   "source": [
    "Plot the spike count estimate of second component from refit"
   ]
  },
  {
   "cell_type": "code",
   "execution_count": null,
   "metadata": {},
   "outputs": [],
   "source": []
  },
  {
   "cell_type": "markdown",
   "metadata": {},
   "source": [
    "Plot the spike count estimate of the last component from refit"
   ]
  },
  {
   "cell_type": "code",
   "execution_count": null,
   "metadata": {},
   "outputs": [],
   "source": []
  },
  {
   "cell_type": "markdown",
   "metadata": {},
   "source": [
    "Let's see how to store the result as a csv file"
   ]
  },
  {
   "cell_type": "code",
   "execution_count": null,
   "metadata": {},
   "outputs": [],
   "source": [
    "frame_rate = cnmf_refit.params.data['fr']\n",
    "frame_pd = 1/frame_rate\n",
    "frame_times = np.linspace(0, num_frames*frame_pd, num_frames);\n",
    "\n",
    "data_to_save = np.vstack((frame_times, cnmf_refit.estimates.S)).T \n",
    "save_df = pd.DataFrame(data_to_save)\n",
    "save_df.rename(columns={0:'time'}, inplace=True)\n",
    "# save_df.to_csv('2p_spike_counts.csv')"
   ]
  },
  {
   "cell_type": "markdown",
   "metadata": {},
   "source": [
    "## Other exercises!\n",
    "\n",
    "\n",
    "1. Go back to CNMF and set K, gSig parameters to very small or very large values. Set rf to None. What does it do?\n",
    "2. Set merge_thr to very small or very high values: merge_thr is the threshold above which any two overlapping components will be treated as one. What does this do to the extracted components? \n",
    "3. The current notebook covers only part of what can be done with caiman. Follow the below link [CNMF source extraction tutorial](https://github.com/flatironinstitute/CaImAn/blob/main/demos/notebooks/demo_pipeline.ipynb) to extract '$\\Delta F/F$' values and view denoised movie."
   ]
  },
  {
   "cell_type": "markdown",
   "metadata": {},
   "source": [
    "## References\n",
    "\n",
    "1. `data_endoscope.tif` 1-photon microendoscopic data from mouse dorsal striatum [Reference](https://elifesciences.org/articles/28728#s3).\n",
    "2. [CNMF source extraction tutorial](https://github.com/flatironinstitute/CaImAn/blob/main/demos/notebooks/demo_pipeline.ipynb)"
   ]
  }
 ],
 "metadata": {
  "kernelspec": {
   "display_name": "caiman",
   "language": "python",
   "name": "python3"
  },
  "language_info": {
   "codemirror_mode": {
    "name": "ipython",
    "version": 3
   },
   "file_extension": ".py",
   "mimetype": "text/x-python",
   "name": "python",
   "nbconvert_exporter": "python",
   "pygments_lexer": "ipython3",
   "version": "3.10.13"
  }
 },
 "nbformat": 4,
 "nbformat_minor": 2
}
