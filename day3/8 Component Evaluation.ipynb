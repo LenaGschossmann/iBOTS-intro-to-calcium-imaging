{
 "cells": [
  {
   "cell_type": "code",
   "execution_count": 1,
   "metadata": {},
   "outputs": [],
   "source": [
    "# %pip install ipympl"
   ]
  },
  {
   "cell_type": "code",
   "execution_count": 2,
   "metadata": {},
   "outputs": [],
   "source": [
    "%matplotlib widget\n",
    "import numpy as np\n",
    "import caiman as cm\n",
    "import matplotlib.pyplot as plt\n",
    "from caiman.motion_correction import MotionCorrect\n",
    "from caiman.source_extraction.cnmf import cnmf\n",
    "from caiman.source_extraction.cnmf.params import CNMFParams\n",
    "from caiman.utils.visualization import view_quilt\n",
    "import pandas as pd\n",
    "import sciebo"
   ]
  },
  {
   "cell_type": "code",
   "execution_count": 3,
   "metadata": {},
   "outputs": [],
   "source": [
    "sciebo.download_file_from_sciebo('https://uni-bonn.sciebo.de/s/RR7qj7tklW1rX25', 'data', 'Sue_2x_3000_40_-46.tif')\n",
    "sciebo.download_file_from_sciebo('https://uni-bonn.sciebo.de/s/RR7qj7tklW1rX25', 'data', 'data_endoscope.tif')"
   ]
  },
  {
   "cell_type": "markdown",
   "metadata": {},
   "source": [
    "## Data prep"
   ]
  },
  {
   "cell_type": "code",
   "execution_count": 4,
   "metadata": {},
   "outputs": [],
   "source": [
    "fname = \"data/Sue_2x_3000_40_-46.tif\"\n",
    "movie_orig = cm.load(fname)"
   ]
  },
  {
   "cell_type": "code",
   "execution_count": 5,
   "metadata": {},
   "outputs": [
    {
     "name": "stderr",
     "output_type": "stream",
     "text": [
      "WARNING:root:Movie average is negative. Removing 1st percentile.\n",
      "WARNING:root:Movie average is negative. Removing 1st percentile.\n",
      "WARNING:root:Movie average is negative. Removing 1st percentile.\n",
      "WARNING:root:Movie average is negative. Removing 1st percentile.\n",
      "WARNING:root:Movie average is negative. Removing 1st percentile.\n",
      "WARNING:root:Movie average is negative. Removing 1st percentile.\n"
     ]
    },
    {
     "data": {
      "text/plain": [
       "['data/Sue_2x_3000_40_-46_els__d1_170_d2_170_d3_1_order_F_frames_3000.mmap']"
      ]
     },
     "execution_count": 5,
     "metadata": {},
     "output_type": "execute_result"
    }
   ],
   "source": [
    "# motion correction\n",
    "params = CNMFParams()\n",
    "motion_params = {\n",
    "    'strides': (48, 48),\n",
    "    'overlaps': (24, 24),\n",
    "    'max_shifts': (6, 6),\n",
    "    'max_deviation_rigid': 3,\n",
    "    'pw_rigid': True\n",
    "}\n",
    "params.motion.update(motion_params)\n",
    "mc = MotionCorrect(fname, **params.motion)\n",
    "mc.motion_correct(save_movie=True)\n",
    "mc.fname_tot_els"
   ]
  },
  {
   "cell_type": "code",
   "execution_count": 6,
   "metadata": {},
   "outputs": [],
   "source": [
    "mc_fname = cm.save_memmap(\n",
    "    mc.fname_tot_els,\n",
    "    base_name='memmap_',\n",
    "    order='C'\n",
    ")"
   ]
  },
  {
   "cell_type": "code",
   "execution_count": 7,
   "metadata": {},
   "outputs": [
    {
     "data": {
      "text/plain": [
       "(3000, 170, 170)"
      ]
     },
     "execution_count": 7,
     "metadata": {},
     "output_type": "execute_result"
    }
   ],
   "source": [
    "Yr, dims, num_frames = cm.load_memmap(mc_fname)\n",
    "images = np.reshape(Yr.T, [num_frames] + list(dims), order='F')\n",
    "images.shape"
   ]
  },
  {
   "cell_type": "markdown",
   "metadata": {},
   "source": [
    "## CNMF Model evaluation\n",
    "\n",
    "\n",
    "**Signal to Noise Ratio (SNR) `min_SNR`**\n",
    "\n",
    "What it is: This is a measure of how much the signal (in this case, the activity of neurons as indicated by calcium transients) stands out from the background noise. </br>\n",
    "How it's done: For each neuron's activity trace (a graph showing their activity over time), a baseline level of noise is determined. Then, the SNR calculates how much the peaks of activity (the calcium transients) stand out compared to this baseline noise. </br>\n",
    "Why it matters: Higher SNR means the neuron's activity is clearer and more distinct, making it more reliable. High SNR components are considered high quality and are less likely to be mistaken detections (false positives). </br>\n",
    "\n",
    "**Spatial Correlation `rval_thr`**\n",
    "\n",
    "What it is: This checks how well the shapes and locations of neurons (their \"spatial footprints\") detected in the data match up with where and when actual neuron activity is seen in the video (movie) of the brain. </br>\n",
    "How it's done: The spatial footprints extracted are compared to the actual neuron activity in the video. This comparison generates correlation coefficients (values that measure how similar two patterns are) for the times when the neurons are active. </br>\n",
    "Why it matters: High correlation means the detected spatial footprints accurately represent real neuron activity, which is crucial for valid analysis. </br>\n",
    "\n",
    "\n",
    "**CNN Confidence `min_cnn_thr`**\n",
    "\n",
    "What it is: This uses a Convolutional Neural Network (CNN), a type of artificial intelligence, to evaluate whether the detected shapes of neurons are likely to be real. </br>\n",
    "How it's done: Each detected spatial component (neuron shape) is analyzed by the CNN, which has been trained on a large set of data where the correct answers (which shapes are truly neurons) are already known. </br>\n",
    "Why it matters: The CNN gives a confidence score between 0 and 1 for each shape. Scores closer to 1 indicate the shape is very likely to be a real neuron, providing another layer of validation for the data. </br>"
   ]
  },
  {
   "cell_type": "code",
   "execution_count": 8,
   "metadata": {},
   "outputs": [],
   "source": [
    "patch_params = {\n",
    "    \"rf\": 15,\n",
    "    \"stride\": 10,\n",
    "    'gSig': 4,\n",
    "    'K': 7    \n",
    "}\n",
    "params.patch.update(patch_params)\n",
    "cnmf_model = cnmf.CNMF(n_processes=1, params=params)"
   ]
  },
  {
   "cell_type": "markdown",
   "metadata": {},
   "source": [
    "Below steps can take a while: You can listen to this [Music](https://www.youtube.com/watch?v=HImi4zdoZrM)"
   ]
  },
  {
   "cell_type": "code",
   "execution_count": 9,
   "metadata": {},
   "outputs": [],
   "source": [
    "cnmf_fit = cnmf_model.fit(images)"
   ]
  },
  {
   "cell_type": "code",
   "execution_count": 10,
   "metadata": {},
   "outputs": [],
   "source": [
    "cnmf_refit = cnmf_fit.refit(images)"
   ]
  },
  {
   "cell_type": "code",
   "execution_count": 11,
   "metadata": {},
   "outputs": [
    {
     "name": "stderr",
     "output_type": "stream",
     "text": [
      "100%|██████████| 1/1 [00:01<00:00,  1.17s/it]\n"
     ]
    }
   ],
   "source": [
    "movie_corrected = cm.load(mc.mmap_file) # load motion corrected movie\n",
    "correlation_image = cm.local_correlations(movie_corrected, swap_dim=False)"
   ]
  },
  {
   "cell_type": "markdown",
   "metadata": {},
   "source": [
    "What are the min_SNR, rval_thr, min_cnn_thr used for evaluation?"
   ]
  },
  {
   "cell_type": "code",
   "execution_count": 12,
   "metadata": {},
   "outputs": [
    {
     "name": "stdout",
     "output_type": "stream",
     "text": [
      "Thresholds to be used for evaluate_components()\n",
      "min_SNR = 2.5\n",
      "rval_thr = 0.8\n",
      "min_cnn_thr = 0.9\n"
     ]
    }
   ],
   "source": [
    "print(\"Thresholds to be used for evaluate_components()\")\n",
    "print(f\"min_SNR = {cnmf_refit.params.quality['min_SNR']}\")\n",
    "print(f\"rval_thr = {cnmf_refit.params.quality['rval_thr']}\")\n",
    "print(f\"min_cnn_thr = {cnmf_refit.params.quality['min_cnn_thr']}\")"
   ]
  },
  {
   "cell_type": "code",
   "execution_count": 15,
   "metadata": {},
   "outputs": [
    {
     "name": "stdout",
     "output_type": "stream",
     "text": [
      "\u001b[0;31mSignature:\u001b[0m \u001b[0mcnmf_refit\u001b[0m\u001b[0;34m.\u001b[0m\u001b[0mestimates\u001b[0m\u001b[0;34m.\u001b[0m\u001b[0mevaluate_components\u001b[0m\u001b[0;34m(\u001b[0m\u001b[0mimgs\u001b[0m\u001b[0;34m,\u001b[0m \u001b[0mparams\u001b[0m\u001b[0;34m,\u001b[0m \u001b[0mdview\u001b[0m\u001b[0;34m=\u001b[0m\u001b[0;32mNone\u001b[0m\u001b[0;34m)\u001b[0m\u001b[0;34m\u001b[0m\u001b[0;34m\u001b[0m\u001b[0m\n",
      "\u001b[0;31mDocstring:\u001b[0m\n",
      "Computes the quality metrics for each component and stores the\n",
      "indices of the components that pass user specified thresholds. The\n",
      "various thresholds and parameters can be passed as inputs. If left\n",
      "empty then they are read from self.params.quality']\n",
      "\n",
      "Args:\n",
      "    imgs: np.array (possibly memory mapped, t,x,y[,z])\n",
      "        Imaging data\n",
      "\n",
      "    params: params object\n",
      "        Parameters of the algorithm. The parameters in play here are\n",
      "        contained in the subdictionary params.quality:\n",
      "\n",
      "        min_SNR: float\n",
      "            trace SNR threshold\n",
      "\n",
      "        rval_thr: float\n",
      "            space correlation threshold\n",
      "\n",
      "        use_cnn: bool\n",
      "            flag for using the CNN classifier\n",
      "\n",
      "        min_cnn_thr: float\n",
      "            CNN classifier threshold\n",
      "\n",
      "Returns:\n",
      "    self: estimates object\n",
      "        self.idx_components: np.array\n",
      "            indices of accepted components\n",
      "        self.idx_components_bad: np.array\n",
      "            indices of rejected components\n",
      "        self.SNR_comp: np.array\n",
      "            SNR values for each temporal trace\n",
      "        self.r_values: np.array\n",
      "            space correlation values for each component\n",
      "        self.cnn_preds: np.array\n",
      "            CNN classifier values for each component\n",
      "\u001b[0;31mFile:\u001b[0m      ~/miniconda/envs/caiman/lib/python3.10/site-packages/caiman/source_extraction/cnmf/estimates.py\n",
      "\u001b[0;31mType:\u001b[0m      method"
     ]
    }
   ],
   "source": [
    "cnmf_refit.estimates.evaluate_components?"
   ]
  },
  {
   "cell_type": "code",
   "execution_count": 14,
   "metadata": {},
   "outputs": [
    {
     "name": "stderr",
     "output_type": "stream",
     "text": [
      "WARNING:root:Component 2 is only active jointly with neighboring components. Space correlation calculation might be unreliable.\n",
      "WARNING:root:Component 7 is only active jointly with neighboring components. Space correlation calculation might be unreliable.\n",
      "WARNING:root:Component 41 is only active jointly with neighboring components. Space correlation calculation might be unreliable.\n",
      "WARNING:root:Component 13 is only active jointly with neighboring components. Space correlation calculation might be unreliable.\n",
      "WARNING:root:Component 16 is only active jointly with neighboring components. Space correlation calculation might be unreliable.\n",
      "WARNING:root:Component 23 is only active jointly with neighboring components. Space correlation calculation might be unreliable.\n",
      "WARNING:root:Component 35 is only active jointly with neighboring components. Space correlation calculation might be unreliable.\n",
      "WARNING:root:Component 22 is only active jointly with neighboring components. Space correlation calculation might be unreliable.\n",
      "WARNING:root:Component 27 is only active jointly with neighboring components. Space correlation calculation might be unreliable.\n",
      "WARNING:root:Component 41 is only active jointly with neighboring components. Space correlation calculation might be unreliable.\n",
      "WARNING:root:Component 21 is only active jointly with neighboring components. Space correlation calculation might be unreliable.\n",
      "WARNING:root:Component 35 is only active jointly with neighboring components. Space correlation calculation might be unreliable.\n",
      "WARNING:root:Component 27 is only active jointly with neighboring components. Space correlation calculation might be unreliable.\n",
      "WARNING:root:Component 22 is only active jointly with neighboring components. Space correlation calculation might be unreliable.\n",
      "WARNING:root:Component 24 is only active jointly with neighboring components. Space correlation calculation might be unreliable.\n",
      "WARNING:root:Component 23 is only active jointly with neighboring components. Space correlation calculation might be unreliable.\n",
      "WARNING:root:Component 11 is only active jointly with neighboring components. Space correlation calculation might be unreliable.\n",
      "WARNING:root:Component 38 is only active jointly with neighboring components. Space correlation calculation might be unreliable.\n",
      "WARNING:root:Component 19 is only active jointly with neighboring components. Space correlation calculation might be unreliable.\n",
      "WARNING:root:Component 31 is only active jointly with neighboring components. Space correlation calculation might be unreliable.\n",
      "WARNING:root:Component 24 is only active jointly with neighboring components. Space correlation calculation might be unreliable.\n",
      "WARNING:root:Component 28 is only active jointly with neighboring components. Space correlation calculation might be unreliable.\n",
      "WARNING:root:Component 41 is only active jointly with neighboring components. Space correlation calculation might be unreliable.\n",
      "WARNING:root:Component 45 is only active jointly with neighboring components. Space correlation calculation might be unreliable.\n",
      "WARNING:root:Component 2 is only active jointly with neighboring components. Space correlation calculation might be unreliable.\n",
      "WARNING:root:Component 12 is only active jointly with neighboring components. Space correlation calculation might be unreliable.\n",
      "WARNING:root:Component 25 is only active jointly with neighboring components. Space correlation calculation might be unreliable.\n",
      "WARNING:root:Component 22 is only active jointly with neighboring components. Space correlation calculation might be unreliable.\n",
      "WARNING:root:Component 32 is only active jointly with neighboring components. Space correlation calculation might be unreliable.\n",
      "WARNING:root:Component 11 is only active jointly with neighboring components. Space correlation calculation might be unreliable.\n",
      "WARNING:root:Component 16 is only active jointly with neighboring components. Space correlation calculation might be unreliable.\n",
      "WARNING:root:Component 26 is only active jointly with neighboring components. Space correlation calculation might be unreliable.\n",
      "WARNING:root:Component 32 is only active jointly with neighboring components. Space correlation calculation might be unreliable.\n",
      "WARNING:root:Component 33 is only active jointly with neighboring components. Space correlation calculation might be unreliable.\n",
      "WARNING:root:Component 44 is only active jointly with neighboring components. Space correlation calculation might be unreliable.\n",
      "WARNING:root:Component 46 is only active jointly with neighboring components. Space correlation calculation might be unreliable.\n",
      "WARNING:root:Component 11 is only active jointly with neighboring components. Space correlation calculation might be unreliable.\n",
      "WARNING:root:Component 11 is only active jointly with neighboring components. Space correlation calculation might be unreliable.\n",
      "WARNING:root:Component 20 is only active jointly with neighboring components. Space correlation calculation might be unreliable.\n",
      "WARNING:root:Component 25 is only active jointly with neighboring components. Space correlation calculation might be unreliable.\n",
      "WARNING:root:Component 47 is only active jointly with neighboring components. Space correlation calculation might be unreliable.\n",
      "WARNING:root:Component 16 is only active jointly with neighboring components. Space correlation calculation might be unreliable.\n",
      "WARNING:root:Component 33 is only active jointly with neighboring components. Space correlation calculation might be unreliable.\n",
      "WARNING:root:Component 42 is only active jointly with neighboring components. Space correlation calculation might be unreliable.\n",
      "WARNING:root:Component 9 is only active jointly with neighboring components. Space correlation calculation might be unreliable.\n",
      "WARNING:root:Component 29 is only active jointly with neighboring components. Space correlation calculation might be unreliable.\n",
      "WARNING:root:Component 14 is only active jointly with neighboring components. Space correlation calculation might be unreliable.\n",
      "WARNING:root:Component 33 is only active jointly with neighboring components. Space correlation calculation might be unreliable.\n",
      "WARNING:root:Component 9 is only active jointly with neighboring components. Space correlation calculation might be unreliable.\n",
      "WARNING:root:Component 22 is only active jointly with neighboring components. Space correlation calculation might be unreliable.\n",
      "WARNING:root:Component 30 is only active jointly with neighboring components. Space correlation calculation might be unreliable.\n",
      "WARNING:root:Component 23 is only active jointly with neighboring components. Space correlation calculation might be unreliable.\n"
     ]
    },
    {
     "name": "stdout",
     "output_type": "stream",
     "text": [
      "GPU run not requested, disabling use of GPUs\n"
     ]
    },
    {
     "ename": "FileNotFoundError",
     "evalue": "File for requested model /home/gitpod/caiman_data/model/cnn_model not found",
     "output_type": "error",
     "traceback": [
      "\u001b[0;31m---------------------------------------------------------------------------\u001b[0m",
      "\u001b[0;31mFileNotFoundError\u001b[0m                         Traceback (most recent call last)",
      "\u001b[1;32m/workspace/iBOTS-intro-to-calcium-imaging/day3/8 Component Evaluation.ipynb Cell 17\u001b[0m line \u001b[0;36m1\n\u001b[0;32m----> <a href='vscode-notebook-cell://ibehaveibot-ibotsintrot-2qwx4d9f6c6.ws-eu108.gitpod.io/workspace/iBOTS-intro-to-calcium-imaging/day3/8%20Component%20Evaluation.ipynb#X13sdnNjb2RlLXJlbW90ZQ%3D%3D?line=0'>1</a>\u001b[0m cnmf_refit\u001b[39m.\u001b[39;49mestimates\u001b[39m.\u001b[39;49mevaluate_components(images, cnmf_refit\u001b[39m.\u001b[39;49mparams);\n",
      "File \u001b[0;32m~/miniconda/envs/caiman/lib/python3.10/site-packages/caiman/source_extraction/cnmf/estimates.py:1040\u001b[0m, in \u001b[0;36mEstimates.evaluate_components\u001b[0;34m(self, imgs, params, dview)\u001b[0m\n\u001b[1;32m   1037\u001b[0m dims \u001b[39m=\u001b[39m imgs\u001b[39m.\u001b[39mshape[\u001b[39m1\u001b[39m:]\n\u001b[1;32m   1038\u001b[0m opts \u001b[39m=\u001b[39m params\u001b[39m.\u001b[39mget_group(\u001b[39m'\u001b[39m\u001b[39mquality\u001b[39m\u001b[39m'\u001b[39m)\n\u001b[1;32m   1039\u001b[0m idx_components, idx_components_bad, SNR_comp, r_values, cnn_preds \u001b[39m=\u001b[39m \\\n\u001b[0;32m-> 1040\u001b[0m     estimate_components_quality_auto(imgs, \u001b[39mself\u001b[39;49m\u001b[39m.\u001b[39;49mA, \u001b[39mself\u001b[39;49m\u001b[39m.\u001b[39;49mC, \u001b[39mself\u001b[39;49m\u001b[39m.\u001b[39;49mb, \u001b[39mself\u001b[39;49m\u001b[39m.\u001b[39;49mf, \u001b[39mself\u001b[39;49m\u001b[39m.\u001b[39;49mYrA,\n\u001b[1;32m   1041\u001b[0m                                      params\u001b[39m.\u001b[39;49mget(\u001b[39m'\u001b[39;49m\u001b[39mdata\u001b[39;49m\u001b[39m'\u001b[39;49m, \u001b[39m'\u001b[39;49m\u001b[39mfr\u001b[39;49m\u001b[39m'\u001b[39;49m),\n\u001b[1;32m   1042\u001b[0m                                      params\u001b[39m.\u001b[39;49mget(\u001b[39m'\u001b[39;49m\u001b[39mdata\u001b[39;49m\u001b[39m'\u001b[39;49m, \u001b[39m'\u001b[39;49m\u001b[39mdecay_time\u001b[39;49m\u001b[39m'\u001b[39;49m),\n\u001b[1;32m   1043\u001b[0m                                      params\u001b[39m.\u001b[39;49mget(\u001b[39m'\u001b[39;49m\u001b[39minit\u001b[39;49m\u001b[39m'\u001b[39;49m, \u001b[39m'\u001b[39;49m\u001b[39mgSig\u001b[39;49m\u001b[39m'\u001b[39;49m),\n\u001b[1;32m   1044\u001b[0m                                      dims, dview\u001b[39m=\u001b[39;49mdview,\n\u001b[1;32m   1045\u001b[0m                                      min_SNR\u001b[39m=\u001b[39;49mopts[\u001b[39m'\u001b[39;49m\u001b[39mmin_SNR\u001b[39;49m\u001b[39m'\u001b[39;49m],\n\u001b[1;32m   1046\u001b[0m                                      r_values_min\u001b[39m=\u001b[39;49mopts[\u001b[39m'\u001b[39;49m\u001b[39mrval_thr\u001b[39;49m\u001b[39m'\u001b[39;49m],\n\u001b[1;32m   1047\u001b[0m                                      use_cnn\u001b[39m=\u001b[39;49mopts[\u001b[39m'\u001b[39;49m\u001b[39muse_cnn\u001b[39;49m\u001b[39m'\u001b[39;49m],\n\u001b[1;32m   1048\u001b[0m                                      thresh_cnn_min\u001b[39m=\u001b[39;49mopts[\u001b[39m'\u001b[39;49m\u001b[39mmin_cnn_thr\u001b[39;49m\u001b[39m'\u001b[39;49m],\n\u001b[1;32m   1049\u001b[0m                                      thresh_cnn_lowest\u001b[39m=\u001b[39;49mopts[\u001b[39m'\u001b[39;49m\u001b[39mcnn_lowest\u001b[39;49m\u001b[39m'\u001b[39;49m],\n\u001b[1;32m   1050\u001b[0m                                      r_values_lowest\u001b[39m=\u001b[39;49mopts[\u001b[39m'\u001b[39;49m\u001b[39mrval_lowest\u001b[39;49m\u001b[39m'\u001b[39;49m],\n\u001b[1;32m   1051\u001b[0m                                      min_SNR_reject\u001b[39m=\u001b[39;49mopts[\u001b[39m'\u001b[39;49m\u001b[39mSNR_lowest\u001b[39;49m\u001b[39m'\u001b[39;49m])\n\u001b[1;32m   1052\u001b[0m \u001b[39mself\u001b[39m\u001b[39m.\u001b[39midx_components \u001b[39m=\u001b[39m idx_components\u001b[39m.\u001b[39mastype(\u001b[39mint\u001b[39m)\n\u001b[1;32m   1053\u001b[0m \u001b[39mself\u001b[39m\u001b[39m.\u001b[39midx_components_bad \u001b[39m=\u001b[39m idx_components_bad\u001b[39m.\u001b[39mastype(\u001b[39mint\u001b[39m)\n",
      "File \u001b[0;32m~/miniconda/envs/caiman/lib/python3.10/site-packages/caiman/components_evaluation.py:608\u001b[0m, in \u001b[0;36mestimate_components_quality_auto\u001b[0;34m(Y, A, C, b, f, YrA, frate, decay_time, gSig, dims, dview, min_SNR, r_values_min, r_values_lowest, Npeaks, use_cnn, thresh_cnn_min, thresh_cnn_lowest, thresh_fitness_delta, min_SNR_reject, gSig_range)\u001b[0m\n\u001b[1;32m    589\u001b[0m _, _, fitness_raw, _, r_values \u001b[39m=\u001b[39m estimate_components_quality(      \u001b[39m# type: ignore # mypy cannot reason about return_all\u001b[39;00m\n\u001b[1;32m    590\u001b[0m     traces,\n\u001b[1;32m    591\u001b[0m     Y,\n\u001b[0;32m   (...)\u001b[0m\n\u001b[1;32m    603\u001b[0m     num_traces_per_group\u001b[39m=\u001b[39m\u001b[39m50\u001b[39m,\n\u001b[1;32m    604\u001b[0m     N\u001b[39m=\u001b[39mN_samples)\n\u001b[1;32m    606\u001b[0m comp_SNR \u001b[39m=\u001b[39m \u001b[39m-\u001b[39mnorm\u001b[39m.\u001b[39mppf(np\u001b[39m.\u001b[39mexp(fitness_raw \u001b[39m/\u001b[39m N_samples))\n\u001b[0;32m--> 608\u001b[0m idx_components, idx_components_bad, cnn_values \u001b[39m=\u001b[39m select_components_from_metrics(A, dims, gSig, r_values, comp_SNR,\n\u001b[1;32m    609\u001b[0m                                                                                 r_values_min, r_values_lowest,\n\u001b[1;32m    610\u001b[0m                                                                                 min_SNR, min_SNR_reject,\n\u001b[1;32m    611\u001b[0m                                                                                 thresh_cnn_min, thresh_cnn_lowest,\n\u001b[1;32m    612\u001b[0m                                                                                 use_cnn, gSig_range)\n\u001b[1;32m    614\u001b[0m \u001b[39mreturn\u001b[39;00m idx_components, idx_components_bad, comp_SNR, r_values, cnn_values\n",
      "File \u001b[0;32m~/miniconda/envs/caiman/lib/python3.10/site-packages/caiman/components_evaluation.py:653\u001b[0m, in \u001b[0;36mselect_components_from_metrics\u001b[0;34m(A, dims, gSig, r_values, comp_SNR, r_values_min, r_values_lowest, min_SNR, min_SNR_reject, thresh_cnn_min, thresh_cnn_lowest, use_cnn, gSig_range, neuron_class, predictions, **kwargs)\u001b[0m\n\u001b[1;32m    651\u001b[0m \u001b[39mif\u001b[39;00m gSig_range \u001b[39mis\u001b[39;00m \u001b[39mNone\u001b[39;00m:\n\u001b[1;32m    652\u001b[0m     \u001b[39mif\u001b[39;00m predictions \u001b[39mis\u001b[39;00m \u001b[39mNone\u001b[39;00m:\n\u001b[0;32m--> 653\u001b[0m         predictions, _ \u001b[39m=\u001b[39m evaluate_components_CNN(A, dims, gSig)\n\u001b[1;32m    654\u001b[0m         predictions \u001b[39m=\u001b[39m predictions[:, neuron_class]\n\u001b[1;32m    655\u001b[0m \u001b[39melse\u001b[39;00m:\n",
      "File \u001b[0;32m~/miniconda/envs/caiman/lib/python3.10/site-packages/caiman/components_evaluation.py:290\u001b[0m, in \u001b[0;36mevaluate_components_CNN\u001b[0;34m(A, dims, gSig, model_name, patch_size, loaded_model, isGPU)\u001b[0m\n\u001b[1;32m    288\u001b[0m     model_weights \u001b[39m=\u001b[39m model_name \u001b[39m+\u001b[39m \u001b[39m\"\u001b[39m\u001b[39m.h5\u001b[39m\u001b[39m\"\u001b[39m\n\u001b[1;32m    289\u001b[0m \u001b[39melse\u001b[39;00m:\n\u001b[0;32m--> 290\u001b[0m     \u001b[39mraise\u001b[39;00m \u001b[39mFileNotFoundError\u001b[39;00m(\u001b[39mf\u001b[39m\u001b[39m\"\u001b[39m\u001b[39mFile for requested model \u001b[39m\u001b[39m{\u001b[39;00mmodel_name\u001b[39m}\u001b[39;00m\u001b[39m not found\u001b[39m\u001b[39m\"\u001b[39m)\n\u001b[1;32m    291\u001b[0m \u001b[39mwith\u001b[39;00m \u001b[39mopen\u001b[39m(model_file, \u001b[39m'\u001b[39m\u001b[39mr\u001b[39m\u001b[39m'\u001b[39m) \u001b[39mas\u001b[39;00m json_file:\n\u001b[1;32m    292\u001b[0m     \u001b[39mprint\u001b[39m(\u001b[39mf\u001b[39m\u001b[39m\"\u001b[39m\u001b[39mUSING MODEL (keras API): \u001b[39m\u001b[39m{\u001b[39;00mmodel_file\u001b[39m}\u001b[39;00m\u001b[39m\"\u001b[39m)\n",
      "\u001b[0;31mFileNotFoundError\u001b[0m: File for requested model /home/gitpod/caiman_data/model/cnn_model not found"
     ]
    }
   ],
   "source": [
    "cnmf_refit.estimates.evaluate_components(images, cnmf_refit.params);\n"
   ]
  },
  {
   "cell_type": "code",
   "execution_count": null,
   "metadata": {},
   "outputs": [],
   "source": [
    "print(f\"Num accepted/rejected: {len(cnmf_refit.estimates.idx_components)}, {len(cnmf_refit.estimates.idx_components_bad)}\")"
   ]
  },
  {
   "cell_type": "code",
   "execution_count": null,
   "metadata": {},
   "outputs": [],
   "source": [
    "cnmf_refit.estimates.plot_contours_nb(img=correlation_image, \n",
    "                                      idx=cnmf_refit.estimates.idx_components);"
   ]
  },
  {
   "cell_type": "code",
   "execution_count": null,
   "metadata": {},
   "outputs": [],
   "source": [
    "cnmf_refit.estimates.nb_view_components(img=correlation_image, \n",
    "                                        idx=cnmf_refit.estimates.idx_components,\n",
    "                                        cmap='gray',\n",
    "                                        denoised_color='red');"
   ]
  },
  {
   "cell_type": "code",
   "execution_count": null,
   "metadata": {},
   "outputs": [],
   "source": [
    "cnmf_refit.estimates.nb_view_components(img=correlation_image, \n",
    "                                        idx=cnmf_refit.estimates.idx_components_bad, \n",
    "                                        cmap='gray',\n",
    "                                        denoised_color='red')"
   ]
  },
  {
   "cell_type": "markdown",
   "metadata": {},
   "source": [
    "delta F/F"
   ]
  },
  {
   "cell_type": "code",
   "execution_count": null,
   "metadata": {},
   "outputs": [],
   "source": [
    "cnmf_refit.estimates.detrend_df_f(quantileMin=8, \n",
    "                                    frames_window=250,\n",
    "                                    flag_auto=False,\n",
    "                                    use_residuals=False); "
   ]
  },
  {
   "cell_type": "code",
   "execution_count": null,
   "metadata": {},
   "outputs": [],
   "source": [
    "cnmf_refit.estimates.nb_view_components(img=correlation_image, \n",
    "                                        idx=cnmf_refit.estimates.idx_components,\n",
    "                                        cmap='gray',\n",
    "                                        denoised_color='red');"
   ]
  },
  {
   "cell_type": "code",
   "execution_count": null,
   "metadata": {},
   "outputs": [],
   "source": [
    "frame_rate = cnmf_refit.params.data['fr']\n",
    "frame_pd = 1/frame_rate\n",
    "frame_times = np.linspace(0, num_frames*frame_pd, num_frames);"
   ]
  },
  {
   "cell_type": "code",
   "execution_count": null,
   "metadata": {},
   "outputs": [],
   "source": [
    "idx_to_plot = 30\n",
    "idx_accepted = cnmf_refit.estimates.idx_components\n",
    "component_number = idx_accepted[idx_to_plot]\n",
    "f, ax = plt.subplots(figsize=(7,2))\n",
    "ax.plot(frame_times, \n",
    "        cnmf_refit.estimates.F_dff[component_number, :], \n",
    "        linewidth=0.5,\n",
    "        color='k');\n",
    "ax.set_xlabel('Time (s)')\n",
    "ax.set_ylabel('$\\Delta F/F$')\n",
    "ax.set_title(f\"$\\Delta F/F$ for unit {component_number}\");\n",
    "plt.tight_layout()"
   ]
  }
 ],
 "metadata": {
  "kernelspec": {
   "display_name": "caiman",
   "language": "python",
   "name": "python3"
  },
  "language_info": {
   "codemirror_mode": {
    "name": "ipython",
    "version": 3
   },
   "file_extension": ".py",
   "mimetype": "text/x-python",
   "name": "python",
   "nbconvert_exporter": "python",
   "pygments_lexer": "ipython3",
   "version": "3.10.13"
  }
 },
 "nbformat": 4,
 "nbformat_minor": 2
}
