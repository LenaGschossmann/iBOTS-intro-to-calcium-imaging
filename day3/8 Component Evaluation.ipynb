{
 "cells": [
  {
   "cell_type": "code",
   "execution_count": 1,
   "metadata": {},
   "outputs": [],
   "source": [
    "# %pip install ipympl"
   ]
  },
  {
   "cell_type": "code",
   "execution_count": 2,
   "metadata": {},
   "outputs": [],
   "source": [
    "import numpy as np\n",
    "import caiman as cm\n",
    "import matplotlib.pyplot as plt\n",
    "from caiman.motion_correction import MotionCorrect\n",
    "from caiman.source_extraction.cnmf import cnmf\n",
    "from caiman.source_extraction.cnmf.params import CNMFParams\n",
    "from caiman.utils.visualization import view_quilt\n",
    "import pandas as pd\n",
    "import sciebo\n",
    "import bokeh.plotting as bpl\n",
    "import holoviews as hv\n",
    "bpl.output_notebook()\n",
    "hv.notebook_extension('bokeh')\n",
    "import holoviews as hv"
   ]
  },
  {
   "cell_type": "code",
   "execution_count": null,
   "metadata": {},
   "outputs": [],
   "source": [
    "sciebo.download_file_from_sciebo('https://uni-bonn.sciebo.de/s/RR7qj7tklW1rX25', 'data', 'Sue_2x_3000_40_-46.tif')\n",
    "sciebo.download_file_from_sciebo('https://uni-bonn.sciebo.de/s/RR7qj7tklW1rX25', 'data', 'data_endoscope.tif')"
   ]
  },
  {
   "cell_type": "markdown",
   "metadata": {},
   "source": [
    "## Data prep"
   ]
  },
  {
   "cell_type": "code",
   "execution_count": null,
   "metadata": {},
   "outputs": [],
   "source": [
    "fname = \"data/Sue_2x_3000_40_-46.tif\"\n",
    "movie_orig = cm.load(fname)"
   ]
  },
  {
   "cell_type": "code",
   "execution_count": null,
   "metadata": {},
   "outputs": [],
   "source": [
    "# motion correction\n",
    "params = CNMFParams()\n",
    "motion_params = {\n",
    "    'strides': (48, 48),\n",
    "    'overlaps': (24, 24),\n",
    "    'max_shifts': (6, 6),\n",
    "    'max_deviation_rigid': 3,\n",
    "    'pw_rigid': True\n",
    "}\n",
    "params.motion.update(motion_params)\n",
    "mc = MotionCorrect(fname, **params.motion)\n",
    "mc.motion_correct(save_movie=True)\n",
    "mc.fname_tot_els"
   ]
  },
  {
   "cell_type": "code",
   "execution_count": null,
   "metadata": {},
   "outputs": [],
   "source": [
    "mc_fname = cm.save_memmap(\n",
    "    mc.fname_tot_els,\n",
    "    base_name='memmap_',\n",
    "    order='C'\n",
    ")"
   ]
  },
  {
   "cell_type": "code",
   "execution_count": null,
   "metadata": {},
   "outputs": [],
   "source": [
    "Yr, dims, num_frames = cm.load_memmap(mc_fname)\n",
    "images = np.reshape(Yr.T, [num_frames] + list(dims), order='F')\n",
    "images.shape"
   ]
  },
  {
   "cell_type": "markdown",
   "metadata": {},
   "source": [
    "## CNMF Model evaluation\n",
    "\n",
    "\n",
    "**Signal to Noise Ratio (SNR) `min_SNR`**\n",
    "\n",
    "What it is: This is a measure of how much the signal (in this case, the activity of neurons as indicated by calcium transients) stands out from the background noise. </br>\n",
    "How it's done: For each neuron's activity trace (a graph showing their activity over time), a baseline level of noise is determined. Then, the SNR calculates how much the peaks of activity (the calcium transients) stand out compared to this baseline noise. </br>\n",
    "Why it matters: Higher SNR means the neuron's activity is clearer and more distinct, making it more reliable. High SNR components are considered high quality and are less likely to be mistaken detections (false positives). </br>\n",
    "\n",
    "**Spatial Correlation `rval_thr`**\n",
    "\n",
    "What it is: This checks how well the shapes and locations of neurons (their \"spatial footprints\") detected in the data match up with where and when actual neuron activity is seen in the video (movie) of the brain. </br>\n",
    "How it's done: The spatial footprints extracted are compared to the actual neuron activity in the video. This comparison generates correlation coefficients (values that measure how similar two patterns are) for the times when the neurons are active. </br>\n",
    "Why it matters: High correlation means the detected spatial footprints accurately represent real neuron activity, which is crucial for valid analysis. </br>\n",
    "\n",
    "\n",
    "**CNN Confidence `min_cnn_thr`**\n",
    "\n",
    "What it is: This uses a Convolutional Neural Network (CNN), a type of artificial intelligence, to evaluate whether the detected shapes of neurons are likely to be real. </br>\n",
    "How it's done: Each detected spatial component (neuron shape) is analyzed by the CNN, which has been trained on a large set of data where the correct answers (which shapes are truly neurons) are already known. </br>\n",
    "Why it matters: The CNN gives a confidence score between 0 and 1 for each shape. Scores closer to 1 indicate the shape is very likely to be a real neuron, providing another layer of validation for the data. </br>"
   ]
  },
  {
   "cell_type": "code",
   "execution_count": null,
   "metadata": {},
   "outputs": [],
   "source": [
    "patch_params = {\n",
    "    \"rf\": 15,\n",
    "    \"stride\": 10,\n",
    "    'gSig': (4,4),\n",
    "    'K': 7    \n",
    "}\n",
    "params.patch.update(patch_params)\n",
    "cnmf_model = cnmf.CNMF(n_processes=1, params=params)"
   ]
  },
  {
   "cell_type": "markdown",
   "metadata": {},
   "source": [
    "Below steps can take a while: You can listen to this [Music](https://www.youtube.com/watch?v=HImi4zdoZrM)"
   ]
  },
  {
   "cell_type": "code",
   "execution_count": null,
   "metadata": {},
   "outputs": [],
   "source": [
    "cnmf_fit = cnmf_model.fit(images)"
   ]
  },
  {
   "cell_type": "code",
   "execution_count": null,
   "metadata": {},
   "outputs": [],
   "source": [
    "cnmf_refit = cnmf_fit.refit(images)"
   ]
  },
  {
   "cell_type": "code",
   "execution_count": null,
   "metadata": {},
   "outputs": [],
   "source": [
    "movie_corrected = cm.load(mc.mmap_file) # load motion corrected movie\n",
    "correlation_image = cm.local_correlations(movie_corrected, swap_dim=False)"
   ]
  },
  {
   "cell_type": "markdown",
   "metadata": {},
   "source": [
    "What are the min_SNR, rval_thr, min_cnn_thr used for evaluation?"
   ]
  },
  {
   "cell_type": "code",
   "execution_count": null,
   "metadata": {},
   "outputs": [],
   "source": [
    "print(\"Thresholds to be used for evaluate_components()\")\n",
    "print(f\"min_SNR = {cnmf_refit.params.quality['min_SNR']}\")\n",
    "print(f\"rval_thr = {cnmf_refit.params.quality['rval_thr']}\")\n",
    "print(f\"min_cnn_thr = {cnmf_refit.params.quality['min_cnn_thr']}\")"
   ]
  },
  {
   "cell_type": "code",
   "execution_count": null,
   "metadata": {},
   "outputs": [],
   "source": [
    "cnmf_refit.estimates.evaluate_components(images, cnmf_refit.params);\n"
   ]
  },
  {
   "cell_type": "code",
   "execution_count": null,
   "metadata": {},
   "outputs": [],
   "source": [
    "print(f\"Num accepted/rejected: {len(cnmf_refit.estimates.idx_components)}, {len(cnmf_refit.estimates.idx_components_bad)}\")"
   ]
  },
  {
   "cell_type": "code",
   "execution_count": null,
   "metadata": {},
   "outputs": [],
   "source": [
    "plt.clf()\n",
    "cnmf_refit.estimates.plot_contours_nb(img=correlation_image, \n",
    "                                      idx=cnmf_refit.estimates.idx_components)"
   ]
  },
  {
   "cell_type": "code",
   "execution_count": null,
   "metadata": {},
   "outputs": [],
   "source": [
    "\n",
    "cnmf_refit.estimates.nb_view_components(img=correlation_image, \n",
    "                                        idx=cnmf_refit.estimates.idx_components,\n",
    "                                        cmap='gray',\n",
    "                                        denoised_color='red');"
   ]
  },
  {
   "cell_type": "code",
   "execution_count": null,
   "metadata": {},
   "outputs": [],
   "source": [
    "cnmf_refit.estimates.nb_view_components(img=correlation_image, \n",
    "                                        idx=cnmf_refit.estimates.idx_components_bad, \n",
    "                                        cmap='gray',\n",
    "                                        denoised_color='red')"
   ]
  },
  {
   "cell_type": "markdown",
   "metadata": {},
   "source": [
    "delta F/F"
   ]
  },
  {
   "cell_type": "code",
   "execution_count": null,
   "metadata": {},
   "outputs": [],
   "source": [
    "cnmf_refit.estimates.detrend_df_f(quantileMin=8, \n",
    "                                    frames_window=250,\n",
    "                                    flag_auto=False,\n",
    "                                    use_residuals=False); "
   ]
  },
  {
   "cell_type": "code",
   "execution_count": null,
   "metadata": {},
   "outputs": [],
   "source": [
    "cnmf_refit.estimates.nb_view_components(img=correlation_image, \n",
    "                                        idx=cnmf_refit.estimates.idx_components,\n",
    "                                        cmap='gray',\n",
    "                                        denoised_color='red')\n",
    "plt.show()"
   ]
  },
  {
   "cell_type": "code",
   "execution_count": null,
   "metadata": {},
   "outputs": [],
   "source": [
    "frame_rate = cnmf_refit.params.data['fr']\n",
    "frame_pd = 1/frame_rate\n",
    "frame_times = np.linspace(0, num_frames*frame_pd, num_frames);"
   ]
  },
  {
   "cell_type": "code",
   "execution_count": null,
   "metadata": {},
   "outputs": [],
   "source": [
    "idx_to_plot = 30\n",
    "idx_accepted = cnmf_refit.estimates.idx_components\n",
    "component_number = idx_accepted[idx_to_plot]\n",
    "f, ax = plt.subplots(figsize=(7,2))\n",
    "ax.plot(frame_times, \n",
    "        cnmf_refit.estimates.F_dff[component_number, :], \n",
    "        linewidth=0.5,\n",
    "        color='k');\n",
    "ax.set_xlabel('Time (s)')\n",
    "ax.set_ylabel('$\\Delta F/F$')\n",
    "ax.set_title(f\"$\\Delta F/F$ for unit {component_number}\");\n",
    "plt.tight_layout()"
   ]
  },
  {
   "cell_type": "code",
   "execution_count": null,
   "metadata": {},
   "outputs": [],
   "source": []
  }
 ],
 "metadata": {
  "kernelspec": {
   "display_name": "caiman",
   "language": "python",
   "name": "python3"
  },
  "language_info": {
   "codemirror_mode": {
    "name": "ipython",
    "version": 3
   },
   "file_extension": ".py",
   "mimetype": "text/x-python",
   "name": "python",
   "nbconvert_exporter": "python",
   "pygments_lexer": "ipython3",
   "version": "3.10.13"
  }
 },
 "nbformat": 4,
 "nbformat_minor": 2
}
